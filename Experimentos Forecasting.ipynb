{
  "nbformat": 4,
  "nbformat_minor": 0,
  "metadata": {
    "colab": {
      "name": "Experimentos",
      "private_outputs": true,
      "provenance": [],
      "collapsed_sections": [],
      "authorship_tag": "ABX9TyOKqz8WOssamDq8p02wgid1",
      "include_colab_link": true
    },
    "kernelspec": {
      "name": "python3",
      "display_name": "Python 3"
    },
    "language_info": {
      "name": "python"
    }
  },
  "cells": [
    {
      "cell_type": "markdown",
      "metadata": {
        "id": "view-in-github",
        "colab_type": "text"
      },
      "source": [
        "<a href=\"https://colab.research.google.com/github/EduHdzVillasana/Proyecto_ML_BEDU/blob/main/Experimentos%20Forecasting.ipynb\" target=\"_parent\"><img src=\"https://colab.research.google.com/assets/colab-badge.svg\" alt=\"Open In Colab\"/></a>"
      ]
    },
    {
      "cell_type": "markdown",
      "metadata": {
        "id": "TVHqVIZwyKq2"
      },
      "source": [
        "# Experimentos con modelos de forecasting"
      ]
    },
    {
      "cell_type": "code",
      "metadata": {
        "id": "4sUtfbRnxmUk"
      },
      "source": [
        "import numpy as np\n",
        "import pandas as pd\n",
        "from sklearn.datasets import load_boston\n",
        "from sklearn.model_selection import train_test_split\n",
        "from sklearn.linear_model import LinearRegression\n",
        "from sklearn.metrics import mean_squared_error\n",
        "from sklearn.metrics import r2_score\n",
        "from sklearn.model_selection import TimeSeriesSplit\n",
        "\n",
        "import matplotlib.pyplot as plt\n",
        "import seaborn as sns"
      ],
      "execution_count": null,
      "outputs": []
    },
    {
      "cell_type": "markdown",
      "metadata": {
        "id": "_oVCte8FyOWN"
      },
      "source": [
        "## Obtención de datos"
      ]
    },
    {
      "cell_type": "code",
      "metadata": {
        "id": "iJMK8EHcxe04"
      },
      "source": [
        "file_url = \"https://raw.githubusercontent.com/EduHdzVillasana/Proyecto_ML_BEDU/main/crime_time_series.csv\""
      ],
      "execution_count": null,
      "outputs": []
    },
    {
      "cell_type": "code",
      "metadata": {
        "id": "Pw77ycMMx97Z"
      },
      "source": [
        "ts_crime = pd.read_csv(file_url).drop(columns = [\"Unnamed: 0\"])\n",
        "ts_crime.head(10)"
      ],
      "execution_count": null,
      "outputs": []
    },
    {
      "cell_type": "code",
      "metadata": {
        "id": "LpZywZ8vJtmF"
      },
      "source": [
        "ts_crime.tail(10)"
      ],
      "execution_count": null,
      "outputs": []
    },
    {
      "cell_type": "code",
      "metadata": {
        "id": "a7caAu_2J1v8"
      },
      "source": [
        "ts_crime.shape"
      ],
      "execution_count": null,
      "outputs": []
    },
    {
      "cell_type": "code",
      "metadata": {
        "id": "LsP2-nrmLCIa"
      },
      "source": [
        "6934%7"
      ],
      "execution_count": null,
      "outputs": []
    },
    {
      "cell_type": "code",
      "metadata": {
        "id": "3oRVJGQgAf-e"
      },
      "source": [
        "ts_crime['Date'] = pd.to_datetime(ts_crime.Date)"
      ],
      "execution_count": null,
      "outputs": []
    },
    {
      "cell_type": "markdown",
      "metadata": {
        "id": "ZtnIPZPXyRtK"
      },
      "source": [
        "## Función para convertir la serie de tiempo en data frame"
      ]
    },
    {
      "cell_type": "code",
      "metadata": {
        "id": "xmLn96BuyFvh"
      },
      "source": [
        "def transformarSerieADataset(serie, elementosPorMuestra):\n",
        "    dataset = None\n",
        "    salidasDataset = None\n",
        "    for counter in range (len(serie)-elementosPorMuestra-1):        \n",
        "        muestra = np.array([serie[counter:counter+elementosPorMuestra]])        \n",
        "        salida = np.array([serie[counter+elementosPorMuestra]])\n",
        "        if dataset is None:\n",
        "            dataset = muestra\n",
        "        else:\n",
        "            dataset = np.append(dataset,muestra,axis = 0)\n",
        "        if salidasDataset is None:\n",
        "            salidasDataset = salida    \n",
        "        else:        \n",
        "            salidasDataset = np.append(salidasDataset,salida)\n",
        "    return dataset, salidasDataset"
      ],
      "execution_count": null,
      "outputs": []
    },
    {
      "cell_type": "markdown",
      "metadata": {
        "id": "lZHFOdG909B2"
      },
      "source": [
        "## Regresión Lineal"
      ]
    },
    {
      "cell_type": "markdown",
      "metadata": {
        "id": "p3Pig9wpyYAJ"
      },
      "source": [
        "### Instancia 1:\n",
        "**Parámetros**\n",
        "* Elementos por muestra : 7"
      ]
    },
    {
      "cell_type": "code",
      "metadata": {
        "id": "dVtCuXdH0_s5"
      },
      "source": [
        "X, Y = transformarSerieADataset(ts_crime[\"Total_Crimes\"].to_numpy(), elementosPorMuestra = 7)"
      ],
      "execution_count": null,
      "outputs": []
    },
    {
      "cell_type": "code",
      "metadata": {
        "id": "T5VrE6CV6TJV"
      },
      "source": [
        "print(X.shape)\n",
        "print(Y.shape)"
      ],
      "execution_count": null,
      "outputs": []
    },
    {
      "cell_type": "code",
      "metadata": {
        "id": "9g05qf6AJ-VK"
      },
      "source": [
        "Y[:10]"
      ],
      "execution_count": null,
      "outputs": []
    },
    {
      "cell_type": "code",
      "metadata": {
        "id": "AKgbU9K0KCOZ"
      },
      "source": [
        "Y[-10:]"
      ],
      "execution_count": null,
      "outputs": []
    },
    {
      "cell_type": "code",
      "metadata": {
        "id": "26vDn3vULTMB"
      },
      "source": [
        "n = 7\n",
        "start = n\n",
        "end = ts_crime.shape[0] - 2\n",
        "(start, end)"
      ],
      "execution_count": null,
      "outputs": []
    },
    {
      "cell_type": "markdown",
      "metadata": {
        "id": "JrImekcTKMfK"
      },
      "source": [
        "Empieza en la posicion 7 y termina en la posicion 6932"
      ]
    },
    {
      "cell_type": "code",
      "metadata": {
        "id": "NLo1lvPWKxnV"
      },
      "source": [
        "ts_crime[7:6933]"
      ],
      "execution_count": null,
      "outputs": []
    },
    {
      "cell_type": "code",
      "metadata": {
        "id": "MDt2lzSEPRPy"
      },
      "source": [
        "X_train = X[:int(X.shape[0]*0.7)]\n",
        "X_test = X[int(X.shape[0]*0.7):]\n",
        "Y_train = Y[:int(X.shape[0]*0.7)]\n",
        "Y_test = Y[int(X.shape[0]*0.7):]"
      ],
      "execution_count": null,
      "outputs": []
    },
    {
      "cell_type": "code",
      "metadata": {
        "id": "nyoniLHm1dL8"
      },
      "source": [
        "print(X_train.shape)\n",
        "print(X_test.shape)\n",
        "print(Y_train.shape)\n",
        "print(Y_test.shape)"
      ],
      "execution_count": null,
      "outputs": []
    },
    {
      "cell_type": "code",
      "metadata": {
        "id": "3ssZuGnm2ajf"
      },
      "source": [
        "lin_model = LinearRegression()\n",
        "lin_model.fit(X_train, Y_train)"
      ],
      "execution_count": null,
      "outputs": []
    },
    {
      "cell_type": "code",
      "metadata": {
        "id": "NFe5Ed4A2bSR"
      },
      "source": [
        "def get_metrics (real, prediction):\n",
        "  MSE = (mean_squared_error(real, prediction))\n",
        "  print(\"MSE = \"+str(MSE))\n",
        "\n",
        "  r2 = (r2_score(real, prediction))\n",
        "  print(\"r^2 = \"+str(r2))"
      ],
      "execution_count": null,
      "outputs": []
    },
    {
      "cell_type": "code",
      "metadata": {
        "id": "6aet3NHY_atY"
      },
      "source": [
        "Y_predicted = lin_model.predict(X)\n",
        "df_comparation = pd.DataFrame({\"Date\":ts_crime[\"Date\"][7:-1],\n",
        "                               \"Real\":Y,\n",
        "                               \"Prediccion\":Y_predicted})\n",
        "df_comparation.shape"
      ],
      "execution_count": null,
      "outputs": []
    },
    {
      "cell_type": "code",
      "metadata": {
        "id": "Wmde9Kwp9WTA"
      },
      "source": [
        "fig = plt.figure(figsize=(18,12))\n",
        "ax = fig.add_subplot()\n",
        "sns.lineplot(x=df_comparation[\"Date\"][int(X.shape[0]*0.7):], y=df_comparation[\"Real\"][int(X.shape[0]*0.7):], label = \"Real\" , linewidth = 1, ax = ax)\n",
        "sns.lineplot(x=df_comparation[\"Date\"][int(X.shape[0]*0.7):],y=df_comparation[\"Prediccion\"][int(X.shape[0]*0.7):], label = \"Predicción\" , linewidth = 1, ax = ax, color = \"red\")\n",
        "ax.set_title(\"Crimenes en Chicago 2001-2021\")"
      ],
      "execution_count": null,
      "outputs": []
    },
    {
      "cell_type": "code",
      "metadata": {
        "id": "af1l5JMZTbwV"
      },
      "source": [
        "get_metrics(df_comparation[\"Real\"], df_comparation[\"Prediccion\"])"
      ],
      "execution_count": null,
      "outputs": []
    },
    {
      "cell_type": "code",
      "metadata": {
        "id": "v8PWnmtcRL_P"
      },
      "source": [
        "fig = plt.figure(figsize=(18,9))\n",
        "ax = fig.add_subplot()\n",
        "sns.lineplot(x=df_comparation[\"Date\"][6500:], y=df_comparation[\"Real\"][6500:], linewidth = 0.5, label = \"Real\" , ax = ax)\n",
        "sns.lineplot(x=df_comparation[\"Date\"][6500:],y=df_comparation[\"Prediccion\"][6500:], linewidth = 0.5, label = \"Predicción\" , ax = ax, color = \"red\")\n",
        "ax.set_title(\"Crimenes en Chicago 2001-2021\")"
      ],
      "execution_count": null,
      "outputs": []
    },
    {
      "cell_type": "code",
      "metadata": {
        "id": "pPQfq2oZCHQ3"
      },
      "source": [
        "index = int(X.shape[0]*0.7)\n",
        "X_f = X[index:index+1]\n",
        "X_f"
      ],
      "execution_count": null,
      "outputs": []
    },
    {
      "cell_type": "code",
      "metadata": {
        "id": "OYMDGZnISJhh"
      },
      "source": [
        "len(X_test)"
      ],
      "execution_count": null,
      "outputs": []
    },
    {
      "cell_type": "code",
      "metadata": {
        "id": "_37LGaKtCPWq"
      },
      "source": [
        "Y_f = []"
      ],
      "execution_count": null,
      "outputs": []
    },
    {
      "cell_type": "code",
      "metadata": {
        "id": "cJxFAaM7CnEV"
      },
      "source": [
        "for i in range (len(X_test)):\n",
        "  pred = lin_model.predict(X_f[-1].reshape(1,-1))[0]\n",
        "  Y_f.append(pred)\n",
        "  x_tmp = list(X_f[-1][1:])\n",
        "  x_tmp.append(pred)\n",
        "  X_f = np.append(X_f,[x_tmp], axis=0)\n",
        "  #X_f.append(x_tmp)\n"
      ],
      "execution_count": null,
      "outputs": []
    },
    {
      "cell_type": "code",
      "metadata": {
        "id": "m-LusT7fFTCe"
      },
      "source": [
        "len (Y_f)"
      ],
      "execution_count": null,
      "outputs": []
    },
    {
      "cell_type": "code",
      "metadata": {
        "id": "IT0yT5L2E0Oj"
      },
      "source": [
        "df_comparation = pd.DataFrame({\"Date\" : df_comparation[\"Date\"][index:],\n",
        "                              \"Real\" : df_comparation[\"Real\"][index:],\n",
        "                              \"Prediccion\" : Y_f})"
      ],
      "execution_count": null,
      "outputs": []
    },
    {
      "cell_type": "code",
      "metadata": {
        "id": "lsx9yfxRDaQA"
      },
      "source": [
        "fig = plt.figure(figsize=(18,9))\n",
        "ax = fig.add_subplot()\n",
        "sns.lineplot(x=df_comparation[\"Date\"], y=df_comparation[\"Real\"], linewidth = 1, label = \"Real\" ,ax = ax)\n",
        "sns.lineplot(x=df_comparation[\"Date\"],y=df_comparation[\"Prediccion\"], linewidth = 1, label = \"Predicción\", ax = ax, color = \"red\")\n",
        "ax.set_title(\"Crimenes en Chicago 2001-2021\")"
      ],
      "execution_count": null,
      "outputs": []
    },
    {
      "cell_type": "code",
      "metadata": {
        "id": "cB2MPBFfRkcT"
      },
      "source": [
        "get_metrics(df_comparation[\"Real\"], df_comparation[\"Prediccion\"])"
      ],
      "execution_count": null,
      "outputs": []
    }
  ]
}