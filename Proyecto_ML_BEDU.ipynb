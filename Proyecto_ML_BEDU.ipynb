{
  "nbformat": 4,
  "nbformat_minor": 0,
  "metadata": {
    "colab": {
      "name": "Proyecto ML BEDU.ipynb",
      "provenance": [],
      "collapsed_sections": [],
      "toc_visible": true,
      "include_colab_link": true
    },
    "kernelspec": {
      "name": "python3",
      "display_name": "Python 3"
    },
    "language_info": {
      "name": "python"
    }
  },
  "cells": [
    {
      "cell_type": "markdown",
      "metadata": {
        "id": "view-in-github",
        "colab_type": "text"
      },
      "source": [
        "<a href=\"https://colab.research.google.com/github/EduHdzVillasana/Proyecto_ML_BEDU/blob/main/Proyecto_ML_BEDU.ipynb\" target=\"_parent\"><img src=\"https://colab.research.google.com/assets/colab-badge.svg\" alt=\"Open In Colab\"/></a>"
      ]
    },
    {
      "cell_type": "markdown",
      "metadata": {
        "id": "rAWqbQ8X0JkI"
      },
      "source": [
        "# Proyecto BEDU Machine Learning\n",
        "**Integrantes**\n",
        "* Eduardo Alán Hernández Villasana\n",
        "* Cristopher Arvizu Cano\n",
        "* José Antonio Aguilar Téllez"
      ]
    },
    {
      "cell_type": "markdown",
      "metadata": {
        "id": "7KDD-ljn1xYM"
      },
      "source": [
        "## Librerias a utilizar"
      ]
    },
    {
      "cell_type": "code",
      "metadata": {
        "id": "W4aO9Cij1zfq"
      },
      "source": [
        "import pandas as pd\n",
        "import numpy as np\n",
        "import matplotlib.pyplot as plt\n",
        "import datetime as dt\n",
        "import seaborn as sns\n",
        "import warnings\n",
        "import os\n",
        "\n",
        "warnings.simplefilter(action='ignore', category=FutureWarning)"
      ],
      "execution_count": 1,
      "outputs": []
    },
    {
      "cell_type": "markdown",
      "metadata": {
        "id": "JZrS2X9w1GdV"
      },
      "source": [
        "## Carga del Dataset"
      ]
    },
    {
      "cell_type": "code",
      "metadata": {
        "colab": {
          "base_uri": "https://localhost:8080/"
        },
        "id": "krv6Wjtn1Iui",
        "outputId": "17ac7886-400a-4e0b-81df-ff2f76731f73"
      },
      "source": [
        "from google.colab import drive\n",
        "drive.mount('/content/drive')"
      ],
      "execution_count": 2,
      "outputs": [
        {
          "output_type": "stream",
          "text": [
            "Mounted at /content/drive\n"
          ],
          "name": "stdout"
        }
      ]
    },
    {
      "cell_type": "code",
      "metadata": {
        "id": "vMjqMra91KFe"
      },
      "source": [
        "#df = pd.read_csv('/content/drive/MyDrive/Datos Análisis del Crimen en Chicago/Crimes_2001-2021_clean.csv', index_col=0, )\n",
        "df = pd.read_csv('/content/drive/MyDrive/Colab Notebooks/BEDU/Datos Análisis del Crimen en Chicago/Crimes_2001-2021_clean.csv', index_col=0, )"
      ],
      "execution_count": 3,
      "outputs": []
    },
    {
      "cell_type": "markdown",
      "metadata": {
        "id": "tXneXk-b2MAd"
      },
      "source": [
        "### Limpieza de datos y casting de fechas"
      ]
    },
    {
      "cell_type": "code",
      "metadata": {
        "id": "YNXHUBpc2R_x",
        "colab": {
          "base_uri": "https://localhost:8080/",
          "height": 400
        },
        "outputId": "1d337925-bcac-4383-b01f-b91a9230f396"
      },
      "source": [
        "df.head()"
      ],
      "execution_count": 4,
      "outputs": [
        {
          "output_type": "execute_result",
          "data": {
            "text/html": [
              "<div>\n",
              "<style scoped>\n",
              "    .dataframe tbody tr th:only-of-type {\n",
              "        vertical-align: middle;\n",
              "    }\n",
              "\n",
              "    .dataframe tbody tr th {\n",
              "        vertical-align: top;\n",
              "    }\n",
              "\n",
              "    .dataframe thead th {\n",
              "        text-align: right;\n",
              "    }\n",
              "</style>\n",
              "<table border=\"1\" class=\"dataframe\">\n",
              "  <thead>\n",
              "    <tr style=\"text-align: right;\">\n",
              "      <th></th>\n",
              "      <th>ID</th>\n",
              "      <th>Case Number</th>\n",
              "      <th>Date</th>\n",
              "      <th>Block</th>\n",
              "      <th>IUCR</th>\n",
              "      <th>Primary Type</th>\n",
              "      <th>Description</th>\n",
              "      <th>Location Description</th>\n",
              "      <th>Arrest</th>\n",
              "      <th>Domestic</th>\n",
              "      <th>Beat</th>\n",
              "      <th>District</th>\n",
              "      <th>Ward</th>\n",
              "      <th>Community Area</th>\n",
              "      <th>FBI Code</th>\n",
              "      <th>X Coordinate</th>\n",
              "      <th>Y Coordinate</th>\n",
              "      <th>Year</th>\n",
              "      <th>Updated On</th>\n",
              "      <th>Latitude</th>\n",
              "      <th>Longitude</th>\n",
              "      <th>Location</th>\n",
              "    </tr>\n",
              "  </thead>\n",
              "  <tbody>\n",
              "    <tr>\n",
              "      <th>0</th>\n",
              "      <td>10224738</td>\n",
              "      <td>HY411648</td>\n",
              "      <td>2015-09-05 13:30:00</td>\n",
              "      <td>043XX S WOOD ST</td>\n",
              "      <td>0486</td>\n",
              "      <td>BATTERY</td>\n",
              "      <td>DOMESTIC BATTERY SIMPLE</td>\n",
              "      <td>RESIDENCE</td>\n",
              "      <td>False</td>\n",
              "      <td>True</td>\n",
              "      <td>924</td>\n",
              "      <td>9.0</td>\n",
              "      <td>12.0</td>\n",
              "      <td>61.0</td>\n",
              "      <td>08B</td>\n",
              "      <td>1165074.0</td>\n",
              "      <td>1875917.0</td>\n",
              "      <td>2015</td>\n",
              "      <td>2018-02-10 15:50:01</td>\n",
              "      <td>41.815117</td>\n",
              "      <td>-87.670000</td>\n",
              "      <td>(41.815117282, -87.669999562)</td>\n",
              "    </tr>\n",
              "    <tr>\n",
              "      <th>1</th>\n",
              "      <td>10224739</td>\n",
              "      <td>HY411615</td>\n",
              "      <td>2015-09-04 11:30:00</td>\n",
              "      <td>008XX N CENTRAL AVE</td>\n",
              "      <td>0870</td>\n",
              "      <td>THEFT</td>\n",
              "      <td>POCKET-PICKING</td>\n",
              "      <td>CTA BUS</td>\n",
              "      <td>False</td>\n",
              "      <td>False</td>\n",
              "      <td>1511</td>\n",
              "      <td>15.0</td>\n",
              "      <td>29.0</td>\n",
              "      <td>25.0</td>\n",
              "      <td>06</td>\n",
              "      <td>1138875.0</td>\n",
              "      <td>1904869.0</td>\n",
              "      <td>2015</td>\n",
              "      <td>2018-02-10 15:50:01</td>\n",
              "      <td>41.895080</td>\n",
              "      <td>-87.765400</td>\n",
              "      <td>(41.895080471, -87.765400451)</td>\n",
              "    </tr>\n",
              "    <tr>\n",
              "      <th>3</th>\n",
              "      <td>10224740</td>\n",
              "      <td>HY411595</td>\n",
              "      <td>2015-09-05 12:45:00</td>\n",
              "      <td>035XX W BARRY AVE</td>\n",
              "      <td>2023</td>\n",
              "      <td>NARCOTICS</td>\n",
              "      <td>POSS: HEROIN(BRN/TAN)</td>\n",
              "      <td>SIDEWALK</td>\n",
              "      <td>True</td>\n",
              "      <td>False</td>\n",
              "      <td>1412</td>\n",
              "      <td>14.0</td>\n",
              "      <td>35.0</td>\n",
              "      <td>21.0</td>\n",
              "      <td>18</td>\n",
              "      <td>1152037.0</td>\n",
              "      <td>1920384.0</td>\n",
              "      <td>2015</td>\n",
              "      <td>2018-02-10 15:50:01</td>\n",
              "      <td>41.937406</td>\n",
              "      <td>-87.716650</td>\n",
              "      <td>(41.937405765, -87.716649687)</td>\n",
              "    </tr>\n",
              "    <tr>\n",
              "      <th>4</th>\n",
              "      <td>10224741</td>\n",
              "      <td>HY411610</td>\n",
              "      <td>2015-09-05 13:00:00</td>\n",
              "      <td>0000X N LARAMIE AVE</td>\n",
              "      <td>0560</td>\n",
              "      <td>ASSAULT</td>\n",
              "      <td>SIMPLE</td>\n",
              "      <td>APARTMENT</td>\n",
              "      <td>False</td>\n",
              "      <td>True</td>\n",
              "      <td>1522</td>\n",
              "      <td>15.0</td>\n",
              "      <td>28.0</td>\n",
              "      <td>25.0</td>\n",
              "      <td>08A</td>\n",
              "      <td>1141706.0</td>\n",
              "      <td>1900086.0</td>\n",
              "      <td>2015</td>\n",
              "      <td>2018-02-10 15:50:01</td>\n",
              "      <td>41.881903</td>\n",
              "      <td>-87.755121</td>\n",
              "      <td>(41.881903443, -87.755121152)</td>\n",
              "    </tr>\n",
              "    <tr>\n",
              "      <th>5</th>\n",
              "      <td>10224742</td>\n",
              "      <td>HY411435</td>\n",
              "      <td>2015-09-05 10:55:00</td>\n",
              "      <td>082XX S LOOMIS BLVD</td>\n",
              "      <td>0610</td>\n",
              "      <td>BURGLARY</td>\n",
              "      <td>FORCIBLE ENTRY</td>\n",
              "      <td>RESIDENCE</td>\n",
              "      <td>False</td>\n",
              "      <td>False</td>\n",
              "      <td>614</td>\n",
              "      <td>6.0</td>\n",
              "      <td>21.0</td>\n",
              "      <td>71.0</td>\n",
              "      <td>05</td>\n",
              "      <td>1168430.0</td>\n",
              "      <td>1850165.0</td>\n",
              "      <td>2015</td>\n",
              "      <td>2018-02-10 15:50:01</td>\n",
              "      <td>41.744379</td>\n",
              "      <td>-87.658431</td>\n",
              "      <td>(41.744378879, -87.658430635)</td>\n",
              "    </tr>\n",
              "  </tbody>\n",
              "</table>\n",
              "</div>"
            ],
            "text/plain": [
              "         ID Case Number  ...  Longitude                       Location\n",
              "0  10224738    HY411648  ... -87.670000  (41.815117282, -87.669999562)\n",
              "1  10224739    HY411615  ... -87.765400  (41.895080471, -87.765400451)\n",
              "3  10224740    HY411595  ... -87.716650  (41.937405765, -87.716649687)\n",
              "4  10224741    HY411610  ... -87.755121  (41.881903443, -87.755121152)\n",
              "5  10224742    HY411435  ... -87.658431  (41.744378879, -87.658430635)\n",
              "\n",
              "[5 rows x 22 columns]"
            ]
          },
          "metadata": {
            "tags": []
          },
          "execution_count": 4
        }
      ]
    },
    {
      "cell_type": "code",
      "metadata": {
        "id": "WTKmleus2Ucz"
      },
      "source": [
        "# No existen los Distritos policiales 21 y 31. \n",
        "\n",
        "df = df[df[\"District\"] != 21.0]\n",
        "df = df[df[\"District\"] != 31.0]"
      ],
      "execution_count": 5,
      "outputs": []
    },
    {
      "cell_type": "code",
      "metadata": {
        "id": "oTO1BO172V1L"
      },
      "source": [
        "# Algunos delitos registrados salen del área de Chicago\n",
        "\n",
        "df= df[df[\"Latitude\"] > 41]"
      ],
      "execution_count": 6,
      "outputs": []
    },
    {
      "cell_type": "code",
      "metadata": {
        "id": "_IkywsmM2cKi"
      },
      "source": [
        "# Casting de datos booleanos\n",
        "df['Arrest'] = df['Arrest'].apply(lambda x: 1 if x == True else 0)\n",
        "df['Domestic'] = df['Domestic'].apply(lambda x: 1 if x == True else 0)"
      ],
      "execution_count": 7,
      "outputs": []
    },
    {
      "cell_type": "code",
      "metadata": {
        "id": "fsnAMhQw2hF_"
      },
      "source": [
        "df['Date'] = pd.to_datetime(df.Date)"
      ],
      "execution_count": 8,
      "outputs": []
    },
    {
      "cell_type": "code",
      "metadata": {
        "id": "IkMQdyKz2jb4",
        "colab": {
          "base_uri": "https://localhost:8080/"
        },
        "outputId": "724d9283-8ef7-40e1-b543-0abe38a1b504"
      },
      "source": [
        "df.dtypes"
      ],
      "execution_count": 9,
      "outputs": [
        {
          "output_type": "execute_result",
          "data": {
            "text/plain": [
              "ID                               int64\n",
              "Case Number                     object\n",
              "Date                    datetime64[ns]\n",
              "Block                           object\n",
              "IUCR                            object\n",
              "Primary Type                    object\n",
              "Description                     object\n",
              "Location Description            object\n",
              "Arrest                           int64\n",
              "Domestic                         int64\n",
              "Beat                             int64\n",
              "District                       float64\n",
              "Ward                           float64\n",
              "Community Area                 float64\n",
              "FBI Code                        object\n",
              "X Coordinate                   float64\n",
              "Y Coordinate                   float64\n",
              "Year                             int64\n",
              "Updated On                      object\n",
              "Latitude                       float64\n",
              "Longitude                      float64\n",
              "Location                        object\n",
              "dtype: object"
            ]
          },
          "metadata": {
            "tags": []
          },
          "execution_count": 9
        }
      ]
    },
    {
      "cell_type": "markdown",
      "metadata": {
        "id": "bQL340PA0iqk"
      },
      "source": [
        "## Obtención de serie de tiempo"
      ]
    },
    {
      "cell_type": "code",
      "metadata": {
        "id": "JeVB7IHO4f6c"
      },
      "source": [
        "df[\"Total\"] = 1"
      ],
      "execution_count": 10,
      "outputs": []
    },
    {
      "cell_type": "code",
      "metadata": {
        "id": "D9562sWC4nS1"
      },
      "source": [
        "df[\"Day\"] = df[\"Date\"].apply(lambda d: d.date())"
      ],
      "execution_count": 11,
      "outputs": []
    },
    {
      "cell_type": "code",
      "metadata": {
        "id": "-9kS8mXo4vc1",
        "colab": {
          "base_uri": "https://localhost:8080/",
          "height": 195
        },
        "outputId": "d5f712d8-053f-4e4e-bc9b-cf3236e99f04"
      },
      "source": [
        "df[[\"Date\",\"Day\"]].head()"
      ],
      "execution_count": 12,
      "outputs": [
        {
          "output_type": "execute_result",
          "data": {
            "text/html": [
              "<div>\n",
              "<style scoped>\n",
              "    .dataframe tbody tr th:only-of-type {\n",
              "        vertical-align: middle;\n",
              "    }\n",
              "\n",
              "    .dataframe tbody tr th {\n",
              "        vertical-align: top;\n",
              "    }\n",
              "\n",
              "    .dataframe thead th {\n",
              "        text-align: right;\n",
              "    }\n",
              "</style>\n",
              "<table border=\"1\" class=\"dataframe\">\n",
              "  <thead>\n",
              "    <tr style=\"text-align: right;\">\n",
              "      <th></th>\n",
              "      <th>Date</th>\n",
              "      <th>Day</th>\n",
              "    </tr>\n",
              "  </thead>\n",
              "  <tbody>\n",
              "    <tr>\n",
              "      <th>0</th>\n",
              "      <td>2015-09-05 13:30:00</td>\n",
              "      <td>2015-09-05</td>\n",
              "    </tr>\n",
              "    <tr>\n",
              "      <th>1</th>\n",
              "      <td>2015-09-04 11:30:00</td>\n",
              "      <td>2015-09-04</td>\n",
              "    </tr>\n",
              "    <tr>\n",
              "      <th>3</th>\n",
              "      <td>2015-09-05 12:45:00</td>\n",
              "      <td>2015-09-05</td>\n",
              "    </tr>\n",
              "    <tr>\n",
              "      <th>4</th>\n",
              "      <td>2015-09-05 13:00:00</td>\n",
              "      <td>2015-09-05</td>\n",
              "    </tr>\n",
              "    <tr>\n",
              "      <th>5</th>\n",
              "      <td>2015-09-05 10:55:00</td>\n",
              "      <td>2015-09-05</td>\n",
              "    </tr>\n",
              "  </tbody>\n",
              "</table>\n",
              "</div>"
            ],
            "text/plain": [
              "                 Date         Day\n",
              "0 2015-09-05 13:30:00  2015-09-05\n",
              "1 2015-09-04 11:30:00  2015-09-04\n",
              "3 2015-09-05 12:45:00  2015-09-05\n",
              "4 2015-09-05 13:00:00  2015-09-05\n",
              "5 2015-09-05 10:55:00  2015-09-05"
            ]
          },
          "metadata": {
            "tags": []
          },
          "execution_count": 12
        }
      ]
    },
    {
      "cell_type": "code",
      "metadata": {
        "id": "LZuELB09z_io"
      },
      "source": [
        "df_grouped_day = df.groupby(\"Day\")[\"Total\"].sum()"
      ],
      "execution_count": 13,
      "outputs": []
    },
    {
      "cell_type": "code",
      "metadata": {
        "id": "_esCaimS3ubq",
        "colab": {
          "base_uri": "https://localhost:8080/",
          "height": 402
        },
        "outputId": "e703e60a-369a-41b1-b3ef-3c5013bda85b"
      },
      "source": [
        "df_grouped_day = pd.DataFrame({\"Date\":df_grouped_day.index,\"Total_Crimes\":df_grouped_day.values})\n",
        "df_grouped_day"
      ],
      "execution_count": 14,
      "outputs": [
        {
          "output_type": "execute_result",
          "data": {
            "text/html": [
              "<div>\n",
              "<style scoped>\n",
              "    .dataframe tbody tr th:only-of-type {\n",
              "        vertical-align: middle;\n",
              "    }\n",
              "\n",
              "    .dataframe tbody tr th {\n",
              "        vertical-align: top;\n",
              "    }\n",
              "\n",
              "    .dataframe thead th {\n",
              "        text-align: right;\n",
              "    }\n",
              "</style>\n",
              "<table border=\"1\" class=\"dataframe\">\n",
              "  <thead>\n",
              "    <tr style=\"text-align: right;\">\n",
              "      <th></th>\n",
              "      <th>Date</th>\n",
              "      <th>Total_Crimes</th>\n",
              "    </tr>\n",
              "  </thead>\n",
              "  <tbody>\n",
              "    <tr>\n",
              "      <th>0</th>\n",
              "      <td>2001-01-01</td>\n",
              "      <td>274</td>\n",
              "    </tr>\n",
              "    <tr>\n",
              "      <th>1</th>\n",
              "      <td>2001-01-02</td>\n",
              "      <td>10</td>\n",
              "    </tr>\n",
              "    <tr>\n",
              "      <th>2</th>\n",
              "      <td>2001-01-03</td>\n",
              "      <td>4</td>\n",
              "    </tr>\n",
              "    <tr>\n",
              "      <th>3</th>\n",
              "      <td>2001-01-05</td>\n",
              "      <td>6</td>\n",
              "    </tr>\n",
              "    <tr>\n",
              "      <th>4</th>\n",
              "      <td>2001-01-06</td>\n",
              "      <td>6</td>\n",
              "    </tr>\n",
              "    <tr>\n",
              "      <th>...</th>\n",
              "      <td>...</td>\n",
              "      <td>...</td>\n",
              "    </tr>\n",
              "    <tr>\n",
              "      <th>7405</th>\n",
              "      <td>2021-04-14</td>\n",
              "      <td>434</td>\n",
              "    </tr>\n",
              "    <tr>\n",
              "      <th>7406</th>\n",
              "      <td>2021-04-15</td>\n",
              "      <td>443</td>\n",
              "    </tr>\n",
              "    <tr>\n",
              "      <th>7407</th>\n",
              "      <td>2021-04-16</td>\n",
              "      <td>458</td>\n",
              "    </tr>\n",
              "    <tr>\n",
              "      <th>7408</th>\n",
              "      <td>2021-04-17</td>\n",
              "      <td>474</td>\n",
              "    </tr>\n",
              "    <tr>\n",
              "      <th>7409</th>\n",
              "      <td>2021-04-18</td>\n",
              "      <td>1</td>\n",
              "    </tr>\n",
              "  </tbody>\n",
              "</table>\n",
              "<p>7410 rows × 2 columns</p>\n",
              "</div>"
            ],
            "text/plain": [
              "            Date  Total_Crimes\n",
              "0     2001-01-01           274\n",
              "1     2001-01-02            10\n",
              "2     2001-01-03             4\n",
              "3     2001-01-05             6\n",
              "4     2001-01-06             6\n",
              "...          ...           ...\n",
              "7405  2021-04-14           434\n",
              "7406  2021-04-15           443\n",
              "7407  2021-04-16           458\n",
              "7408  2021-04-17           474\n",
              "7409  2021-04-18             1\n",
              "\n",
              "[7410 rows x 2 columns]"
            ]
          },
          "metadata": {
            "tags": []
          },
          "execution_count": 14
        }
      ]
    },
    {
      "cell_type": "code",
      "metadata": {
        "id": "hM6qG5Y55LWh",
        "colab": {
          "base_uri": "https://localhost:8080/",
          "height": 421
        },
        "outputId": "7dfaad7f-909d-417a-a761-e4ddef7a2ec5"
      },
      "source": [
        "fig = plt.figure(figsize=(12,6))\n",
        "ax = fig.add_subplot()\n",
        "sns.lineplot(x=df_grouped_day[\"Date\"], y=df_grouped_day[\"Total_Crimes\"], ax = ax)\n",
        "ax.set_title(\"Crimenes en Chicago 2001-2021\")"
      ],
      "execution_count": 15,
      "outputs": [
        {
          "output_type": "execute_result",
          "data": {
            "text/plain": [
              "Text(0.5, 1.0, 'Crimenes en Chicago 2001-2021')"
            ]
          },
          "metadata": {
            "tags": []
          },
          "execution_count": 15
        },
        {
          "output_type": "display_data",
          "data": {
            "image/png": "[encoded data removed]",
            "text/plain": [
              "<Figure size 864x432 with 1 Axes>"
            ]
          },
          "metadata": {
            "tags": [],
            "needs_background": "light"
          }
        }
      ]
    },
    {
      "cell_type": "code",
      "metadata": {
        "colab": {
          "base_uri": "https://localhost:8080/",
          "height": 639
        },
        "id": "Em1ouGAZvuQJ",
        "outputId": "6c6ac70d-ce02-44f7-a994-bba61e4a1cd8"
      },
      "source": [
        "df_grouped_day[460:480]"
      ],
      "execution_count": 16,
      "outputs": [
        {
          "output_type": "execute_result",
          "data": {
            "text/html": [
              "<div>\n",
              "<style scoped>\n",
              "    .dataframe tbody tr th:only-of-type {\n",
              "        vertical-align: middle;\n",
              "    }\n",
              "\n",
              "    .dataframe tbody tr th {\n",
              "        vertical-align: top;\n",
              "    }\n",
              "\n",
              "    .dataframe thead th {\n",
              "        text-align: right;\n",
              "    }\n",
              "</style>\n",
              "<table border=\"1\" class=\"dataframe\">\n",
              "  <thead>\n",
              "    <tr style=\"text-align: right;\">\n",
              "      <th></th>\n",
              "      <th>Date</th>\n",
              "      <th>Total_Crimes</th>\n",
              "    </tr>\n",
              "  </thead>\n",
              "  <tbody>\n",
              "    <tr>\n",
              "      <th>460</th>\n",
              "      <td>2002-04-09</td>\n",
              "      <td>123</td>\n",
              "    </tr>\n",
              "    <tr>\n",
              "      <th>461</th>\n",
              "      <td>2002-04-10</td>\n",
              "      <td>128</td>\n",
              "    </tr>\n",
              "    <tr>\n",
              "      <th>462</th>\n",
              "      <td>2002-04-11</td>\n",
              "      <td>136</td>\n",
              "    </tr>\n",
              "    <tr>\n",
              "      <th>463</th>\n",
              "      <td>2002-04-12</td>\n",
              "      <td>126</td>\n",
              "    </tr>\n",
              "    <tr>\n",
              "      <th>464</th>\n",
              "      <td>2002-04-13</td>\n",
              "      <td>97</td>\n",
              "    </tr>\n",
              "    <tr>\n",
              "      <th>465</th>\n",
              "      <td>2002-04-14</td>\n",
              "      <td>119</td>\n",
              "    </tr>\n",
              "    <tr>\n",
              "      <th>466</th>\n",
              "      <td>2002-04-15</td>\n",
              "      <td>217</td>\n",
              "    </tr>\n",
              "    <tr>\n",
              "      <th>467</th>\n",
              "      <td>2002-04-16</td>\n",
              "      <td>168</td>\n",
              "    </tr>\n",
              "    <tr>\n",
              "      <th>468</th>\n",
              "      <td>2002-04-17</td>\n",
              "      <td>170</td>\n",
              "    </tr>\n",
              "    <tr>\n",
              "      <th>469</th>\n",
              "      <td>2002-04-18</td>\n",
              "      <td>198</td>\n",
              "    </tr>\n",
              "    <tr>\n",
              "      <th>470</th>\n",
              "      <td>2002-04-19</td>\n",
              "      <td>262</td>\n",
              "    </tr>\n",
              "    <tr>\n",
              "      <th>471</th>\n",
              "      <td>2002-04-20</td>\n",
              "      <td>378</td>\n",
              "    </tr>\n",
              "    <tr>\n",
              "      <th>472</th>\n",
              "      <td>2002-04-21</td>\n",
              "      <td>341</td>\n",
              "    </tr>\n",
              "    <tr>\n",
              "      <th>473</th>\n",
              "      <td>2002-04-22</td>\n",
              "      <td>558</td>\n",
              "    </tr>\n",
              "    <tr>\n",
              "      <th>474</th>\n",
              "      <td>2002-04-23</td>\n",
              "      <td>796</td>\n",
              "    </tr>\n",
              "    <tr>\n",
              "      <th>475</th>\n",
              "      <td>2002-04-24</td>\n",
              "      <td>1073</td>\n",
              "    </tr>\n",
              "    <tr>\n",
              "      <th>476</th>\n",
              "      <td>2002-04-25</td>\n",
              "      <td>1294</td>\n",
              "    </tr>\n",
              "    <tr>\n",
              "      <th>477</th>\n",
              "      <td>2002-04-26</td>\n",
              "      <td>1367</td>\n",
              "    </tr>\n",
              "    <tr>\n",
              "      <th>478</th>\n",
              "      <td>2002-04-27</td>\n",
              "      <td>1254</td>\n",
              "    </tr>\n",
              "    <tr>\n",
              "      <th>479</th>\n",
              "      <td>2002-04-28</td>\n",
              "      <td>1119</td>\n",
              "    </tr>\n",
              "  </tbody>\n",
              "</table>\n",
              "</div>"
            ],
            "text/plain": [
              "           Date  Total_Crimes\n",
              "460  2002-04-09           123\n",
              "461  2002-04-10           128\n",
              "462  2002-04-11           136\n",
              "463  2002-04-12           126\n",
              "464  2002-04-13            97\n",
              "465  2002-04-14           119\n",
              "466  2002-04-15           217\n",
              "467  2002-04-16           168\n",
              "468  2002-04-17           170\n",
              "469  2002-04-18           198\n",
              "470  2002-04-19           262\n",
              "471  2002-04-20           378\n",
              "472  2002-04-21           341\n",
              "473  2002-04-22           558\n",
              "474  2002-04-23           796\n",
              "475  2002-04-24          1073\n",
              "476  2002-04-25          1294\n",
              "477  2002-04-26          1367\n",
              "478  2002-04-27          1254\n",
              "479  2002-04-28          1119"
            ]
          },
          "metadata": {
            "tags": []
          },
          "execution_count": 16
        }
      ]
    },
    {
      "cell_type": "markdown",
      "metadata": {
        "id": "bJPppvPrv9j7"
      },
      "source": [
        "Se observó que a finales de abril del 2002 los crímenes aumentaron muy rapido, esto se debió probablemente a que los datos no estaban recopilados correctamente, y en esas fechas se mejoró el método de recopilación. Se eliminarán los datos de antes del 25 de abril del 2002."
      ]
    },
    {
      "cell_type": "code",
      "metadata": {
        "colab": {
          "base_uri": "https://localhost:8080/",
          "height": 402
        },
        "id": "skXOTo1ZwWEp",
        "outputId": "f1b38cc4-ef9d-437f-b576-de984d2e7488"
      },
      "source": [
        "df_grouped_day = df_grouped_day[df_grouped_day[\"Date\"] >= dt.date(2002,4,25)]\n",
        "df_grouped_day"
      ],
      "execution_count": 17,
      "outputs": [
        {
          "output_type": "execute_result",
          "data": {
            "text/html": [
              "<div>\n",
              "<style scoped>\n",
              "    .dataframe tbody tr th:only-of-type {\n",
              "        vertical-align: middle;\n",
              "    }\n",
              "\n",
              "    .dataframe tbody tr th {\n",
              "        vertical-align: top;\n",
              "    }\n",
              "\n",
              "    .dataframe thead th {\n",
              "        text-align: right;\n",
              "    }\n",
              "</style>\n",
              "<table border=\"1\" class=\"dataframe\">\n",
              "  <thead>\n",
              "    <tr style=\"text-align: right;\">\n",
              "      <th></th>\n",
              "      <th>Date</th>\n",
              "      <th>Total_Crimes</th>\n",
              "    </tr>\n",
              "  </thead>\n",
              "  <tbody>\n",
              "    <tr>\n",
              "      <th>476</th>\n",
              "      <td>2002-04-25</td>\n",
              "      <td>1294</td>\n",
              "    </tr>\n",
              "    <tr>\n",
              "      <th>477</th>\n",
              "      <td>2002-04-26</td>\n",
              "      <td>1367</td>\n",
              "    </tr>\n",
              "    <tr>\n",
              "      <th>478</th>\n",
              "      <td>2002-04-27</td>\n",
              "      <td>1254</td>\n",
              "    </tr>\n",
              "    <tr>\n",
              "      <th>479</th>\n",
              "      <td>2002-04-28</td>\n",
              "      <td>1119</td>\n",
              "    </tr>\n",
              "    <tr>\n",
              "      <th>480</th>\n",
              "      <td>2002-04-29</td>\n",
              "      <td>1447</td>\n",
              "    </tr>\n",
              "    <tr>\n",
              "      <th>...</th>\n",
              "      <td>...</td>\n",
              "      <td>...</td>\n",
              "    </tr>\n",
              "    <tr>\n",
              "      <th>7405</th>\n",
              "      <td>2021-04-14</td>\n",
              "      <td>434</td>\n",
              "    </tr>\n",
              "    <tr>\n",
              "      <th>7406</th>\n",
              "      <td>2021-04-15</td>\n",
              "      <td>443</td>\n",
              "    </tr>\n",
              "    <tr>\n",
              "      <th>7407</th>\n",
              "      <td>2021-04-16</td>\n",
              "      <td>458</td>\n",
              "    </tr>\n",
              "    <tr>\n",
              "      <th>7408</th>\n",
              "      <td>2021-04-17</td>\n",
              "      <td>474</td>\n",
              "    </tr>\n",
              "    <tr>\n",
              "      <th>7409</th>\n",
              "      <td>2021-04-18</td>\n",
              "      <td>1</td>\n",
              "    </tr>\n",
              "  </tbody>\n",
              "</table>\n",
              "<p>6934 rows × 2 columns</p>\n",
              "</div>"
            ],
            "text/plain": [
              "            Date  Total_Crimes\n",
              "476   2002-04-25          1294\n",
              "477   2002-04-26          1367\n",
              "478   2002-04-27          1254\n",
              "479   2002-04-28          1119\n",
              "480   2002-04-29          1447\n",
              "...          ...           ...\n",
              "7405  2021-04-14           434\n",
              "7406  2021-04-15           443\n",
              "7407  2021-04-16           458\n",
              "7408  2021-04-17           474\n",
              "7409  2021-04-18             1\n",
              "\n",
              "[6934 rows x 2 columns]"
            ]
          },
          "metadata": {
            "tags": []
          },
          "execution_count": 17
        }
      ]
    },
    {
      "cell_type": "code",
      "metadata": {
        "colab": {
          "base_uri": "https://localhost:8080/",
          "height": 421
        },
        "id": "h97y67K-wtWf",
        "outputId": "91275825-3e97-401c-9718-08dee92edfb0"
      },
      "source": [
        "fig = plt.figure(figsize=(12,6))\n",
        "ax = fig.add_subplot()\n",
        "sns.lineplot(x=df_grouped_day[\"Date\"], y=df_grouped_day[\"Total_Crimes\"], ax = ax)\n",
        "ax.set_title(\"Crimenes en Chicago 2001-2021\")"
      ],
      "execution_count": 18,
      "outputs": [
        {
          "output_type": "execute_result",
          "data": {
            "text/plain": [
              "Text(0.5, 1.0, 'Crimenes en Chicago 2001-2021')"
            ]
          },
          "metadata": {
            "tags": []
          },
          "execution_count": 18
        },
        {
          "output_type": "display_data",
          "data": {
            "image/png": "[encoded data removed]",
            "text/plain": [
              "<Figure size 864x432 with 1 Axes>"
            ]
          },
          "metadata": {
            "tags": [],
            "needs_background": "light"
          }
        }
      ]
    },
    {
      "cell_type": "code",
      "metadata": {
        "id": "fzLrEC8hw0Ec"
      },
      "source": [
        "df_grouped_day.to_csv(\"crime_time_series.csv\")"
      ],
      "execution_count": 19,
      "outputs": []
    },
    {
      "cell_type": "code",
      "metadata": {
        "id": "Q10qwPRK7TGj"
      },
      "source": [
        "def transformarSerieADataset(serie, elementosPorMuestra):\n",
        "    dataset = None\n",
        "    salidasDataset = None\n",
        "    for counter in range (len(serie)-elementosPorMuestra-1):        \n",
        "        muestra = np.array([serie[counter:counter+elementosPorMuestra]])        \n",
        "        salida = np.array([serie[counter+elementosPorMuestra]])\n",
        "        if dataset is None:\n",
        "            dataset = muestra\n",
        "        else:\n",
        "            dataset = np.append(dataset,muestra,axis = 0)\n",
        "        if salidasDataset is None:\n",
        "            salidasDataset = salida    \n",
        "        else:        \n",
        "            salidasDataset = np.append(salidasDataset,salida)\n",
        "    return dataset, salidasDataset"
      ],
      "execution_count": 20,
      "outputs": []
    },
    {
      "cell_type": "code",
      "metadata": {
        "id": "S5Ae8ujQ9N1F"
      },
      "source": [
        "X,Y = transformarSerieADataset(df_grouped_day[\"Total_Crimes\"].to_numpy(), 3)"
      ],
      "execution_count": 21,
      "outputs": []
    },
    {
      "cell_type": "code",
      "metadata": {
        "id": "TMf3EBDQ9XW-",
        "colab": {
          "base_uri": "https://localhost:8080/"
        },
        "outputId": "07a9cebe-bd64-48d6-9aa8-8a51f313005a"
      },
      "source": [
        "X[:10]"
      ],
      "execution_count": 22,
      "outputs": [
        {
          "output_type": "execute_result",
          "data": {
            "text/plain": [
              "array([[1294, 1367, 1254],\n",
              "       [1367, 1254, 1119],\n",
              "       [1254, 1119, 1447],\n",
              "       [1119, 1447, 1322],\n",
              "       [1447, 1322, 1450],\n",
              "       [1322, 1450, 1244],\n",
              "       [1450, 1244, 1296],\n",
              "       [1244, 1296, 1283],\n",
              "       [1296, 1283, 1254],\n",
              "       [1283, 1254, 1234]])"
            ]
          },
          "metadata": {
            "tags": []
          },
          "execution_count": 22
        }
      ]
    },
    {
      "cell_type": "code",
      "metadata": {
        "id": "T68suT7y9ZbW",
        "colab": {
          "base_uri": "https://localhost:8080/"
        },
        "outputId": "1cc9f2f1-1b29-455a-ee4a-3f1accb51848"
      },
      "source": [
        "Y[:10]"
      ],
      "execution_count": 23,
      "outputs": [
        {
          "output_type": "execute_result",
          "data": {
            "text/plain": [
              "array([1119, 1447, 1322, 1450, 1244, 1296, 1283, 1254, 1234, 1278])"
            ]
          },
          "metadata": {
            "tags": []
          },
          "execution_count": 23
        }
      ]
    },
    {
      "cell_type": "code",
      "metadata": {
        "id": "0qi00hFjsf70"
      },
      "source": [
        ""
      ],
      "execution_count": 23,
      "outputs": []
    },
    {
      "cell_type": "markdown",
      "metadata": {
        "id": "idXsNWkG_n2s"
      },
      "source": [
        "## Separación en Distritos"
      ]
    },
    {
      "cell_type": "code",
      "metadata": {
        "colab": {
          "base_uri": "https://localhost:8080/"
        },
        "id": "6w7kuLNW_vOn",
        "outputId": "11fbae1e-12b6-49cc-8ebd-eb59e4d90887"
      },
      "source": [
        "df.dtypes"
      ],
      "execution_count": 22,
      "outputs": [
        {
          "output_type": "execute_result",
          "data": {
            "text/plain": [
              "ID                               int64\n",
              "Case Number                     object\n",
              "Date                    datetime64[ns]\n",
              "Block                           object\n",
              "IUCR                            object\n",
              "Primary Type                    object\n",
              "Description                     object\n",
              "Location Description            object\n",
              "Arrest                           int64\n",
              "Domestic                         int64\n",
              "Beat                             int64\n",
              "District                       float64\n",
              "Ward                           float64\n",
              "Community Area                 float64\n",
              "FBI Code                        object\n",
              "X Coordinate                   float64\n",
              "Y Coordinate                   float64\n",
              "Year                             int64\n",
              "Updated On                      object\n",
              "Latitude                       float64\n",
              "Longitude                      float64\n",
              "Location                        object\n",
              "Total                            int64\n",
              "Day                             object\n",
              "dtype: object"
            ]
          },
          "metadata": {
            "tags": []
          },
          "execution_count": 22
        }
      ]
    },
    {
      "cell_type": "code",
      "metadata": {
        "id": "jQHe_L2wAGM-"
      },
      "source": [
        "df[\"District\"] = df[\"District\"].apply(lambda x: int(x))"
      ],
      "execution_count": 23,
      "outputs": []
    },
    {
      "cell_type": "code",
      "metadata": {
        "id": "WjgDItwqANXF"
      },
      "source": [
        "districts = df[\"District\"].unique()\n",
        "districts = sorted(districts)"
      ],
      "execution_count": 24,
      "outputs": []
    },
    {
      "cell_type": "code",
      "metadata": {
        "colab": {
          "base_uri": "https://localhost:8080/"
        },
        "id": "Yjh_j4beFm6p",
        "outputId": "8fbad6cd-7eb3-4780-f376-a3422338c1d2"
      },
      "source": [
        "districts"
      ],
      "execution_count": 25,
      "outputs": [
        {
          "output_type": "execute_result",
          "data": {
            "text/plain": [
              "[1, 2, 3, 4, 5, 6, 7, 8, 9, 10, 11, 12, 14, 15, 16, 17, 18, 19, 20, 22, 24, 25]"
            ]
          },
          "metadata": {
            "tags": []
          },
          "execution_count": 25
        }
      ]
    },
    {
      "cell_type": "code",
      "metadata": {
        "id": "DWDM5uhMF7aG"
      },
      "source": [
        "dates = df_grouped_day[\"Date\"]"
      ],
      "execution_count": 26,
      "outputs": []
    },
    {
      "cell_type": "code",
      "metadata": {
        "colab": {
          "base_uri": "https://localhost:8080/"
        },
        "id": "N9u9kZVwGGDV",
        "outputId": "2e116b95-5142-40e3-dbf3-93f4ceba1ba6"
      },
      "source": [
        "dates"
      ],
      "execution_count": 27,
      "outputs": [
        {
          "output_type": "execute_result",
          "data": {
            "text/plain": [
              "476     2002-04-25\n",
              "477     2002-04-26\n",
              "478     2002-04-27\n",
              "479     2002-04-28\n",
              "480     2002-04-29\n",
              "           ...    \n",
              "7405    2021-04-14\n",
              "7406    2021-04-15\n",
              "7407    2021-04-16\n",
              "7408    2021-04-17\n",
              "7409    2021-04-18\n",
              "Name: Date, Length: 6934, dtype: object"
            ]
          },
          "metadata": {
            "tags": []
          },
          "execution_count": 27
        }
      ]
    },
    {
      "cell_type": "code",
      "metadata": {
        "id": "A65ZBc3qGetx"
      },
      "source": [
        "dict_districts = {}\n",
        "for district in districts:\n",
        "  dict_districts[f\"District {district}\"] = []"
      ],
      "execution_count": 29,
      "outputs": []
    },
    {
      "cell_type": "code",
      "metadata": {
        "colab": {
          "base_uri": "https://localhost:8080/",
          "height": 402
        },
        "id": "TPwaef8UKs10",
        "outputId": "c60820f1-ee31-40ea-9567-a71a638a30e2"
      },
      "source": [
        "df_grouped_day"
      ],
      "execution_count": 78,
      "outputs": [
        {
          "output_type": "execute_result",
          "data": {
            "text/html": [
              "<div>\n",
              "<style scoped>\n",
              "    .dataframe tbody tr th:only-of-type {\n",
              "        vertical-align: middle;\n",
              "    }\n",
              "\n",
              "    .dataframe tbody tr th {\n",
              "        vertical-align: top;\n",
              "    }\n",
              "\n",
              "    .dataframe thead th {\n",
              "        text-align: right;\n",
              "    }\n",
              "</style>\n",
              "<table border=\"1\" class=\"dataframe\">\n",
              "  <thead>\n",
              "    <tr style=\"text-align: right;\">\n",
              "      <th></th>\n",
              "      <th>Date</th>\n",
              "      <th>Total_Crimes</th>\n",
              "    </tr>\n",
              "  </thead>\n",
              "  <tbody>\n",
              "    <tr>\n",
              "      <th>476</th>\n",
              "      <td>2002-04-25</td>\n",
              "      <td>1294</td>\n",
              "    </tr>\n",
              "    <tr>\n",
              "      <th>477</th>\n",
              "      <td>2002-04-26</td>\n",
              "      <td>1367</td>\n",
              "    </tr>\n",
              "    <tr>\n",
              "      <th>478</th>\n",
              "      <td>2002-04-27</td>\n",
              "      <td>1254</td>\n",
              "    </tr>\n",
              "    <tr>\n",
              "      <th>479</th>\n",
              "      <td>2002-04-28</td>\n",
              "      <td>1119</td>\n",
              "    </tr>\n",
              "    <tr>\n",
              "      <th>480</th>\n",
              "      <td>2002-04-29</td>\n",
              "      <td>1447</td>\n",
              "    </tr>\n",
              "    <tr>\n",
              "      <th>...</th>\n",
              "      <td>...</td>\n",
              "      <td>...</td>\n",
              "    </tr>\n",
              "    <tr>\n",
              "      <th>7405</th>\n",
              "      <td>2021-04-14</td>\n",
              "      <td>434</td>\n",
              "    </tr>\n",
              "    <tr>\n",
              "      <th>7406</th>\n",
              "      <td>2021-04-15</td>\n",
              "      <td>443</td>\n",
              "    </tr>\n",
              "    <tr>\n",
              "      <th>7407</th>\n",
              "      <td>2021-04-16</td>\n",
              "      <td>458</td>\n",
              "    </tr>\n",
              "    <tr>\n",
              "      <th>7408</th>\n",
              "      <td>2021-04-17</td>\n",
              "      <td>474</td>\n",
              "    </tr>\n",
              "    <tr>\n",
              "      <th>7409</th>\n",
              "      <td>2021-04-18</td>\n",
              "      <td>1</td>\n",
              "    </tr>\n",
              "  </tbody>\n",
              "</table>\n",
              "<p>6934 rows × 2 columns</p>\n",
              "</div>"
            ],
            "text/plain": [
              "            Date  Total_Crimes\n",
              "476   2002-04-25          1294\n",
              "477   2002-04-26          1367\n",
              "478   2002-04-27          1254\n",
              "479   2002-04-28          1119\n",
              "480   2002-04-29          1447\n",
              "...          ...           ...\n",
              "7405  2021-04-14           434\n",
              "7406  2021-04-15           443\n",
              "7407  2021-04-16           458\n",
              "7408  2021-04-17           474\n",
              "7409  2021-04-18             1\n",
              "\n",
              "[6934 rows x 2 columns]"
            ]
          },
          "metadata": {
            "tags": []
          },
          "execution_count": 78
        }
      ]
    },
    {
      "cell_type": "code",
      "metadata": {
        "id": "u92l11EQMnV4"
      },
      "source": [
        "prueba = df.groupby([\"Day\", \"District\"])[\"Total\"].sum()"
      ],
      "execution_count": 89,
      "outputs": []
    },
    {
      "cell_type": "code",
      "metadata": {
        "colab": {
          "base_uri": "https://localhost:8080/"
        },
        "id": "gyg9PrBnM6Hf",
        "outputId": "a4883102-1273-4170-b39e-668ec47168fb"
      },
      "source": [
        "prueba.transpose()"
      ],
      "execution_count": 92,
      "outputs": [
        {
          "output_type": "execute_result",
          "data": {
            "text/plain": [
              "Day         District\n",
              "2001-01-01  1            8\n",
              "            2           11\n",
              "            3            9\n",
              "            4           13\n",
              "            5           15\n",
              "                        ..\n",
              "2021-04-17  20           8\n",
              "            22          20\n",
              "            24          10\n",
              "            25          28\n",
              "2021-04-18  4            1\n",
              "Name: Total, Length: 156942, dtype: int64"
            ]
          },
          "metadata": {
            "tags": []
          },
          "execution_count": 92
        }
      ]
    },
    {
      "cell_type": "code",
      "metadata": {
        "colab": {
          "base_uri": "https://localhost:8080/"
        },
        "id": "DEB_-_AnLLDW",
        "outputId": "52cebe88-d982-45a6-a8a4-f18fa5fe8dc8"
      },
      "source": [
        "df[df[\"District\"] == 1].groupby(\"Day\")[\"Total\"].sum()"
      ],
      "execution_count": 80,
      "outputs": [
        {
          "output_type": "execute_result",
          "data": {
            "text/plain": [
              "Day\n",
              "2001-01-01     8\n",
              "2001-01-05     1\n",
              "2001-01-10     1\n",
              "2001-01-16     1\n",
              "2001-01-30     1\n",
              "              ..\n",
              "2021-04-13    17\n",
              "2021-04-14     9\n",
              "2021-04-15    15\n",
              "2021-04-16    20\n",
              "2021-04-17    18\n",
              "Name: Total, Length: 7111, dtype: int64"
            ]
          },
          "metadata": {
            "tags": []
          },
          "execution_count": 80
        }
      ]
    },
    {
      "cell_type": "code",
      "metadata": {
        "id": "Khql3n-TL69s"
      },
      "source": [
        "df_list = []\n",
        "for district in districts:\n",
        "  tmp = df[df[\"District\"] == district].groupby(\"Day\")[\"Total\"].sum()\n",
        "  df_tmp = pd.DataFrame({\"Date\": tmp.index, f\"District {district}\": tmp.values})\n",
        "  df_list.append(df_tmp)"
      ],
      "execution_count": 86,
      "outputs": []
    },
    {
      "cell_type": "code",
      "metadata": {
        "colab": {
          "base_uri": "https://localhost:8080/"
        },
        "id": "K_Ia7JYUMYe8",
        "outputId": "0762ad1a-c220-4970-c486-b27808b95fac"
      },
      "source": [
        "len(df_list)"
      ],
      "execution_count": 87,
      "outputs": [
        {
          "output_type": "execute_result",
          "data": {
            "text/plain": [
              "22"
            ]
          },
          "metadata": {
            "tags": []
          },
          "execution_count": 87
        }
      ]
    },
    {
      "cell_type": "code",
      "metadata": {
        "id": "FAK3283ENIW2"
      },
      "source": [
        "df_districts = df_grouped_day.copy()"
      ],
      "execution_count": 94,
      "outputs": []
    },
    {
      "cell_type": "code",
      "metadata": {
        "colab": {
          "base_uri": "https://localhost:8080/"
        },
        "id": "yY2CtlINNpyI",
        "outputId": "3ac5a0b3-f569-4c2c-dc3d-4472a7f05f2d"
      },
      "source": [
        "df_districts.dtypes"
      ],
      "execution_count": 96,
      "outputs": [
        {
          "output_type": "execute_result",
          "data": {
            "text/plain": [
              "Date            object\n",
              "Total_Crimes     int64\n",
              "dtype: object"
            ]
          },
          "metadata": {
            "tags": []
          },
          "execution_count": 96
        }
      ]
    },
    {
      "cell_type": "code",
      "metadata": {
        "colab": {
          "base_uri": "https://localhost:8080/",
          "height": 402
        },
        "id": "KHSfjeDBNsgL",
        "outputId": "9c7baaeb-83a0-4b6b-9cec-ff82d0114e33"
      },
      "source": [
        "df_districts"
      ],
      "execution_count": 101,
      "outputs": [
        {
          "output_type": "execute_result",
          "data": {
            "text/html": [
              "<div>\n",
              "<style scoped>\n",
              "    .dataframe tbody tr th:only-of-type {\n",
              "        vertical-align: middle;\n",
              "    }\n",
              "\n",
              "    .dataframe tbody tr th {\n",
              "        vertical-align: top;\n",
              "    }\n",
              "\n",
              "    .dataframe thead th {\n",
              "        text-align: right;\n",
              "    }\n",
              "</style>\n",
              "<table border=\"1\" class=\"dataframe\">\n",
              "  <thead>\n",
              "    <tr style=\"text-align: right;\">\n",
              "      <th></th>\n",
              "      <th>Date</th>\n",
              "      <th>Total_Crimes</th>\n",
              "    </tr>\n",
              "  </thead>\n",
              "  <tbody>\n",
              "    <tr>\n",
              "      <th>476</th>\n",
              "      <td>2002-04-25</td>\n",
              "      <td>1294</td>\n",
              "    </tr>\n",
              "    <tr>\n",
              "      <th>477</th>\n",
              "      <td>2002-04-26</td>\n",
              "      <td>1367</td>\n",
              "    </tr>\n",
              "    <tr>\n",
              "      <th>478</th>\n",
              "      <td>2002-04-27</td>\n",
              "      <td>1254</td>\n",
              "    </tr>\n",
              "    <tr>\n",
              "      <th>479</th>\n",
              "      <td>2002-04-28</td>\n",
              "      <td>1119</td>\n",
              "    </tr>\n",
              "    <tr>\n",
              "      <th>480</th>\n",
              "      <td>2002-04-29</td>\n",
              "      <td>1447</td>\n",
              "    </tr>\n",
              "    <tr>\n",
              "      <th>...</th>\n",
              "      <td>...</td>\n",
              "      <td>...</td>\n",
              "    </tr>\n",
              "    <tr>\n",
              "      <th>7405</th>\n",
              "      <td>2021-04-14</td>\n",
              "      <td>434</td>\n",
              "    </tr>\n",
              "    <tr>\n",
              "      <th>7406</th>\n",
              "      <td>2021-04-15</td>\n",
              "      <td>443</td>\n",
              "    </tr>\n",
              "    <tr>\n",
              "      <th>7407</th>\n",
              "      <td>2021-04-16</td>\n",
              "      <td>458</td>\n",
              "    </tr>\n",
              "    <tr>\n",
              "      <th>7408</th>\n",
              "      <td>2021-04-17</td>\n",
              "      <td>474</td>\n",
              "    </tr>\n",
              "    <tr>\n",
              "      <th>7409</th>\n",
              "      <td>2021-04-18</td>\n",
              "      <td>1</td>\n",
              "    </tr>\n",
              "  </tbody>\n",
              "</table>\n",
              "<p>6934 rows × 2 columns</p>\n",
              "</div>"
            ],
            "text/plain": [
              "            Date  Total_Crimes\n",
              "476   2002-04-25          1294\n",
              "477   2002-04-26          1367\n",
              "478   2002-04-27          1254\n",
              "479   2002-04-28          1119\n",
              "480   2002-04-29          1447\n",
              "...          ...           ...\n",
              "7405  2021-04-14           434\n",
              "7406  2021-04-15           443\n",
              "7407  2021-04-16           458\n",
              "7408  2021-04-17           474\n",
              "7409  2021-04-18             1\n",
              "\n",
              "[6934 rows x 2 columns]"
            ]
          },
          "metadata": {
            "tags": []
          },
          "execution_count": 101
        }
      ]
    },
    {
      "cell_type": "code",
      "metadata": {
        "colab": {
          "base_uri": "https://localhost:8080/",
          "height": 402
        },
        "id": "dbP5wvJaNMi4",
        "outputId": "7358f79c-ddfb-4ecf-a567-85d0db666c74"
      },
      "source": [
        "pd.merge(df_districts, df_list[0], how = \"left\", on = \"Date\")"
      ],
      "execution_count": 100,
      "outputs": [
        {
          "output_type": "execute_result",
          "data": {
            "text/html": [
              "<div>\n",
              "<style scoped>\n",
              "    .dataframe tbody tr th:only-of-type {\n",
              "        vertical-align: middle;\n",
              "    }\n",
              "\n",
              "    .dataframe tbody tr th {\n",
              "        vertical-align: top;\n",
              "    }\n",
              "\n",
              "    .dataframe thead th {\n",
              "        text-align: right;\n",
              "    }\n",
              "</style>\n",
              "<table border=\"1\" class=\"dataframe\">\n",
              "  <thead>\n",
              "    <tr style=\"text-align: right;\">\n",
              "      <th></th>\n",
              "      <th>Date</th>\n",
              "      <th>Total_Crimes</th>\n",
              "      <th>District 1</th>\n",
              "    </tr>\n",
              "  </thead>\n",
              "  <tbody>\n",
              "    <tr>\n",
              "      <th>0</th>\n",
              "      <td>2002-04-25</td>\n",
              "      <td>1294</td>\n",
              "      <td>48.0</td>\n",
              "    </tr>\n",
              "    <tr>\n",
              "      <th>1</th>\n",
              "      <td>2002-04-26</td>\n",
              "      <td>1367</td>\n",
              "      <td>68.0</td>\n",
              "    </tr>\n",
              "    <tr>\n",
              "      <th>2</th>\n",
              "      <td>2002-04-27</td>\n",
              "      <td>1254</td>\n",
              "      <td>32.0</td>\n",
              "    </tr>\n",
              "    <tr>\n",
              "      <th>3</th>\n",
              "      <td>2002-04-28</td>\n",
              "      <td>1119</td>\n",
              "      <td>30.0</td>\n",
              "    </tr>\n",
              "    <tr>\n",
              "      <th>4</th>\n",
              "      <td>2002-04-29</td>\n",
              "      <td>1447</td>\n",
              "      <td>91.0</td>\n",
              "    </tr>\n",
              "    <tr>\n",
              "      <th>...</th>\n",
              "      <td>...</td>\n",
              "      <td>...</td>\n",
              "      <td>...</td>\n",
              "    </tr>\n",
              "    <tr>\n",
              "      <th>6929</th>\n",
              "      <td>2021-04-14</td>\n",
              "      <td>434</td>\n",
              "      <td>9.0</td>\n",
              "    </tr>\n",
              "    <tr>\n",
              "      <th>6930</th>\n",
              "      <td>2021-04-15</td>\n",
              "      <td>443</td>\n",
              "      <td>15.0</td>\n",
              "    </tr>\n",
              "    <tr>\n",
              "      <th>6931</th>\n",
              "      <td>2021-04-16</td>\n",
              "      <td>458</td>\n",
              "      <td>20.0</td>\n",
              "    </tr>\n",
              "    <tr>\n",
              "      <th>6932</th>\n",
              "      <td>2021-04-17</td>\n",
              "      <td>474</td>\n",
              "      <td>18.0</td>\n",
              "    </tr>\n",
              "    <tr>\n",
              "      <th>6933</th>\n",
              "      <td>2021-04-18</td>\n",
              "      <td>1</td>\n",
              "      <td>NaN</td>\n",
              "    </tr>\n",
              "  </tbody>\n",
              "</table>\n",
              "<p>6934 rows × 3 columns</p>\n",
              "</div>"
            ],
            "text/plain": [
              "            Date  Total_Crimes  District 1\n",
              "0     2002-04-25          1294        48.0\n",
              "1     2002-04-26          1367        68.0\n",
              "2     2002-04-27          1254        32.0\n",
              "3     2002-04-28          1119        30.0\n",
              "4     2002-04-29          1447        91.0\n",
              "...          ...           ...         ...\n",
              "6929  2021-04-14           434         9.0\n",
              "6930  2021-04-15           443        15.0\n",
              "6931  2021-04-16           458        20.0\n",
              "6932  2021-04-17           474        18.0\n",
              "6933  2021-04-18             1         NaN\n",
              "\n",
              "[6934 rows x 3 columns]"
            ]
          },
          "metadata": {
            "tags": []
          },
          "execution_count": 100
        }
      ]
    },
    {
      "cell_type": "code",
      "metadata": {
        "id": "qBdUcZ0CNdoV"
      },
      "source": [
        "for data in df_list:\n",
        "  df_districts = pd.merge(df_districts, data, how = \"left\", on = \"Date\")"
      ],
      "execution_count": 102,
      "outputs": []
    },
    {
      "cell_type": "code",
      "metadata": {
        "id": "oQmTsOFmG97P"
      },
      "source": [
        "df_districts = df_districts.fillna(0)"
      ],
      "execution_count": 105,
      "outputs": []
    },
    {
      "cell_type": "code",
      "metadata": {
        "colab": {
          "base_uri": "https://localhost:8080/",
          "height": 223
        },
        "id": "s75t_IqEOWHA",
        "outputId": "c7ac0418-7b45-4add-f9c0-ce4154a80a54"
      },
      "source": [
        "df_districts.sample(3)"
      ],
      "execution_count": 106,
      "outputs": [
        {
          "output_type": "execute_result",
          "data": {
            "text/html": [
              "<div>\n",
              "<style scoped>\n",
              "    .dataframe tbody tr th:only-of-type {\n",
              "        vertical-align: middle;\n",
              "    }\n",
              "\n",
              "    .dataframe tbody tr th {\n",
              "        vertical-align: top;\n",
              "    }\n",
              "\n",
              "    .dataframe thead th {\n",
              "        text-align: right;\n",
              "    }\n",
              "</style>\n",
              "<table border=\"1\" class=\"dataframe\">\n",
              "  <thead>\n",
              "    <tr style=\"text-align: right;\">\n",
              "      <th></th>\n",
              "      <th>Date</th>\n",
              "      <th>Total_Crimes</th>\n",
              "      <th>District 1</th>\n",
              "      <th>District 2</th>\n",
              "      <th>District 3</th>\n",
              "      <th>District 4</th>\n",
              "      <th>District 5</th>\n",
              "      <th>District 6</th>\n",
              "      <th>District 7</th>\n",
              "      <th>District 8</th>\n",
              "      <th>District 9</th>\n",
              "      <th>District 10</th>\n",
              "      <th>District 11</th>\n",
              "      <th>District 12</th>\n",
              "      <th>District 14</th>\n",
              "      <th>District 15</th>\n",
              "      <th>District 16</th>\n",
              "      <th>District 17</th>\n",
              "      <th>District 18</th>\n",
              "      <th>District 19</th>\n",
              "      <th>District 20</th>\n",
              "      <th>District 22</th>\n",
              "      <th>District 24</th>\n",
              "      <th>District 25</th>\n",
              "    </tr>\n",
              "  </thead>\n",
              "  <tbody>\n",
              "    <tr>\n",
              "      <th>265</th>\n",
              "      <td>2003-01-15</td>\n",
              "      <td>1202</td>\n",
              "      <td>41.0</td>\n",
              "      <td>64.0</td>\n",
              "      <td>76.0</td>\n",
              "      <td>73</td>\n",
              "      <td>48.0</td>\n",
              "      <td>62.0</td>\n",
              "      <td>56.0</td>\n",
              "      <td>80.0</td>\n",
              "      <td>65.0</td>\n",
              "      <td>61.0</td>\n",
              "      <td>63.0</td>\n",
              "      <td>67.0</td>\n",
              "      <td>38.0</td>\n",
              "      <td>50.0</td>\n",
              "      <td>47.0</td>\n",
              "      <td>44.0</td>\n",
              "      <td>49.0</td>\n",
              "      <td>58.0</td>\n",
              "      <td>20.0</td>\n",
              "      <td>47.0</td>\n",
              "      <td>28.0</td>\n",
              "      <td>65.0</td>\n",
              "    </tr>\n",
              "    <tr>\n",
              "      <th>6578</th>\n",
              "      <td>2020-04-28</td>\n",
              "      <td>452</td>\n",
              "      <td>12.0</td>\n",
              "      <td>16.0</td>\n",
              "      <td>25.0</td>\n",
              "      <td>37</td>\n",
              "      <td>23.0</td>\n",
              "      <td>29.0</td>\n",
              "      <td>29.0</td>\n",
              "      <td>32.0</td>\n",
              "      <td>24.0</td>\n",
              "      <td>27.0</td>\n",
              "      <td>40.0</td>\n",
              "      <td>25.0</td>\n",
              "      <td>10.0</td>\n",
              "      <td>19.0</td>\n",
              "      <td>11.0</td>\n",
              "      <td>16.0</td>\n",
              "      <td>6.0</td>\n",
              "      <td>13.0</td>\n",
              "      <td>8.0</td>\n",
              "      <td>18.0</td>\n",
              "      <td>11.0</td>\n",
              "      <td>21.0</td>\n",
              "    </tr>\n",
              "    <tr>\n",
              "      <th>5344</th>\n",
              "      <td>2016-12-11</td>\n",
              "      <td>509</td>\n",
              "      <td>34.0</td>\n",
              "      <td>16.0</td>\n",
              "      <td>27.0</td>\n",
              "      <td>28</td>\n",
              "      <td>30.0</td>\n",
              "      <td>30.0</td>\n",
              "      <td>21.0</td>\n",
              "      <td>40.0</td>\n",
              "      <td>26.0</td>\n",
              "      <td>35.0</td>\n",
              "      <td>28.0</td>\n",
              "      <td>16.0</td>\n",
              "      <td>20.0</td>\n",
              "      <td>24.0</td>\n",
              "      <td>15.0</td>\n",
              "      <td>7.0</td>\n",
              "      <td>32.0</td>\n",
              "      <td>15.0</td>\n",
              "      <td>6.0</td>\n",
              "      <td>14.0</td>\n",
              "      <td>15.0</td>\n",
              "      <td>30.0</td>\n",
              "    </tr>\n",
              "  </tbody>\n",
              "</table>\n",
              "</div>"
            ],
            "text/plain": [
              "            Date  Total_Crimes  ...  District 24  District 25\n",
              "265   2003-01-15          1202  ...         28.0         65.0\n",
              "6578  2020-04-28           452  ...         11.0         21.0\n",
              "5344  2016-12-11           509  ...         15.0         30.0\n",
              "\n",
              "[3 rows x 24 columns]"
            ]
          },
          "metadata": {
            "tags": []
          },
          "execution_count": 106
        }
      ]
    },
    {
      "cell_type": "code",
      "metadata": {
        "id": "K73wHTLgO74e"
      },
      "source": [
        "df_districts.to_csv(\"crimes_by_districts.csv\")"
      ],
      "execution_count": 107,
      "outputs": []
    },
    {
      "cell_type": "markdown",
      "metadata": {
        "id": "FVEpb9Arg91u"
      },
      "source": [
        "##Prophet"
      ]
    },
    {
      "cell_type": "code",
      "metadata": {
        "id": "_HFhtbl5hAxe"
      },
      "source": [
        "file_url = \"https://raw.githubusercontent.com/EduHdzVillasana/Proyecto_ML_BEDU/main/crime_time_series.csv\""
      ],
      "execution_count": 59,
      "outputs": []
    },
    {
      "cell_type": "code",
      "metadata": {
        "colab": {
          "base_uri": "https://localhost:8080/",
          "height": 343
        },
        "id": "RLZxtmN8hCJW",
        "outputId": "fa53794f-12cb-434a-bd55-892ad7da1057"
      },
      "source": [
        "ts_crime = pd.read_csv(file_url).drop(columns = [\"Unnamed: 0\"])\n",
        "ts_crime = ts_crime[:-1]\n",
        "ts_crime.head(10)"
      ],
      "execution_count": 60,
      "outputs": [
        {
          "output_type": "execute_result",
          "data": {
            "text/html": [
              "<div>\n",
              "<style scoped>\n",
              "    .dataframe tbody tr th:only-of-type {\n",
              "        vertical-align: middle;\n",
              "    }\n",
              "\n",
              "    .dataframe tbody tr th {\n",
              "        vertical-align: top;\n",
              "    }\n",
              "\n",
              "    .dataframe thead th {\n",
              "        text-align: right;\n",
              "    }\n",
              "</style>\n",
              "<table border=\"1\" class=\"dataframe\">\n",
              "  <thead>\n",
              "    <tr style=\"text-align: right;\">\n",
              "      <th></th>\n",
              "      <th>Date</th>\n",
              "      <th>Total_Crimes</th>\n",
              "    </tr>\n",
              "  </thead>\n",
              "  <tbody>\n",
              "    <tr>\n",
              "      <th>0</th>\n",
              "      <td>2002-04-25</td>\n",
              "      <td>1294</td>\n",
              "    </tr>\n",
              "    <tr>\n",
              "      <th>1</th>\n",
              "      <td>2002-04-26</td>\n",
              "      <td>1367</td>\n",
              "    </tr>\n",
              "    <tr>\n",
              "      <th>2</th>\n",
              "      <td>2002-04-27</td>\n",
              "      <td>1254</td>\n",
              "    </tr>\n",
              "    <tr>\n",
              "      <th>3</th>\n",
              "      <td>2002-04-28</td>\n",
              "      <td>1119</td>\n",
              "    </tr>\n",
              "    <tr>\n",
              "      <th>4</th>\n",
              "      <td>2002-04-29</td>\n",
              "      <td>1447</td>\n",
              "    </tr>\n",
              "    <tr>\n",
              "      <th>5</th>\n",
              "      <td>2002-04-30</td>\n",
              "      <td>1322</td>\n",
              "    </tr>\n",
              "    <tr>\n",
              "      <th>6</th>\n",
              "      <td>2002-05-01</td>\n",
              "      <td>1450</td>\n",
              "    </tr>\n",
              "    <tr>\n",
              "      <th>7</th>\n",
              "      <td>2002-05-02</td>\n",
              "      <td>1244</td>\n",
              "    </tr>\n",
              "    <tr>\n",
              "      <th>8</th>\n",
              "      <td>2002-05-03</td>\n",
              "      <td>1296</td>\n",
              "    </tr>\n",
              "    <tr>\n",
              "      <th>9</th>\n",
              "      <td>2002-05-04</td>\n",
              "      <td>1283</td>\n",
              "    </tr>\n",
              "  </tbody>\n",
              "</table>\n",
              "</div>"
            ],
            "text/plain": [
              "         Date  Total_Crimes\n",
              "0  2002-04-25          1294\n",
              "1  2002-04-26          1367\n",
              "2  2002-04-27          1254\n",
              "3  2002-04-28          1119\n",
              "4  2002-04-29          1447\n",
              "5  2002-04-30          1322\n",
              "6  2002-05-01          1450\n",
              "7  2002-05-02          1244\n",
              "8  2002-05-03          1296\n",
              "9  2002-05-04          1283"
            ]
          },
          "metadata": {
            "tags": []
          },
          "execution_count": 60
        }
      ]
    },
    {
      "cell_type": "code",
      "metadata": {
        "colab": {
          "base_uri": "https://localhost:8080/",
          "height": 343
        },
        "id": "8uaJ4a6qhFYf",
        "outputId": "0987277e-eec9-425a-82e7-b04102120958"
      },
      "source": [
        "ts_crime.tail(10)"
      ],
      "execution_count": 61,
      "outputs": [
        {
          "output_type": "execute_result",
          "data": {
            "text/html": [
              "<div>\n",
              "<style scoped>\n",
              "    .dataframe tbody tr th:only-of-type {\n",
              "        vertical-align: middle;\n",
              "    }\n",
              "\n",
              "    .dataframe tbody tr th {\n",
              "        vertical-align: top;\n",
              "    }\n",
              "\n",
              "    .dataframe thead th {\n",
              "        text-align: right;\n",
              "    }\n",
              "</style>\n",
              "<table border=\"1\" class=\"dataframe\">\n",
              "  <thead>\n",
              "    <tr style=\"text-align: right;\">\n",
              "      <th></th>\n",
              "      <th>Date</th>\n",
              "      <th>Total_Crimes</th>\n",
              "    </tr>\n",
              "  </thead>\n",
              "  <tbody>\n",
              "    <tr>\n",
              "      <th>6923</th>\n",
              "      <td>2021-04-08</td>\n",
              "      <td>442</td>\n",
              "    </tr>\n",
              "    <tr>\n",
              "      <th>6924</th>\n",
              "      <td>2021-04-09</td>\n",
              "      <td>489</td>\n",
              "    </tr>\n",
              "    <tr>\n",
              "      <th>6925</th>\n",
              "      <td>2021-04-10</td>\n",
              "      <td>483</td>\n",
              "    </tr>\n",
              "    <tr>\n",
              "      <th>6926</th>\n",
              "      <td>2021-04-11</td>\n",
              "      <td>443</td>\n",
              "    </tr>\n",
              "    <tr>\n",
              "      <th>6927</th>\n",
              "      <td>2021-04-12</td>\n",
              "      <td>484</td>\n",
              "    </tr>\n",
              "    <tr>\n",
              "      <th>6928</th>\n",
              "      <td>2021-04-13</td>\n",
              "      <td>481</td>\n",
              "    </tr>\n",
              "    <tr>\n",
              "      <th>6929</th>\n",
              "      <td>2021-04-14</td>\n",
              "      <td>434</td>\n",
              "    </tr>\n",
              "    <tr>\n",
              "      <th>6930</th>\n",
              "      <td>2021-04-15</td>\n",
              "      <td>443</td>\n",
              "    </tr>\n",
              "    <tr>\n",
              "      <th>6931</th>\n",
              "      <td>2021-04-16</td>\n",
              "      <td>458</td>\n",
              "    </tr>\n",
              "    <tr>\n",
              "      <th>6932</th>\n",
              "      <td>2021-04-17</td>\n",
              "      <td>474</td>\n",
              "    </tr>\n",
              "  </tbody>\n",
              "</table>\n",
              "</div>"
            ],
            "text/plain": [
              "            Date  Total_Crimes\n",
              "6923  2021-04-08           442\n",
              "6924  2021-04-09           489\n",
              "6925  2021-04-10           483\n",
              "6926  2021-04-11           443\n",
              "6927  2021-04-12           484\n",
              "6928  2021-04-13           481\n",
              "6929  2021-04-14           434\n",
              "6930  2021-04-15           443\n",
              "6931  2021-04-16           458\n",
              "6932  2021-04-17           474"
            ]
          },
          "metadata": {
            "tags": []
          },
          "execution_count": 61
        }
      ]
    },
    {
      "cell_type": "code",
      "metadata": {
        "id": "LoOJbAsihJl0"
      },
      "source": [
        "ts_crime['Date'] = pd.to_datetime(ts_crime.Date)"
      ],
      "execution_count": 62,
      "outputs": []
    },
    {
      "cell_type": "code",
      "metadata": {
        "colab": {
          "base_uri": "https://localhost:8080/",
          "height": 402
        },
        "id": "_h86t_6OhRPJ",
        "outputId": "47b931d1-d704-4ba9-a394-8f26a71172ee"
      },
      "source": [
        "# Tenemos una data frame de cada fecha en que se cometio un crimen en Chicago\n",
        "# dese 2002 a 2021\n",
        "df_pr = ts_crime.copy()\n",
        "df_pr"
      ],
      "execution_count": 63,
      "outputs": [
        {
          "output_type": "execute_result",
          "data": {
            "text/html": [
              "<div>\n",
              "<style scoped>\n",
              "    .dataframe tbody tr th:only-of-type {\n",
              "        vertical-align: middle;\n",
              "    }\n",
              "\n",
              "    .dataframe tbody tr th {\n",
              "        vertical-align: top;\n",
              "    }\n",
              "\n",
              "    .dataframe thead th {\n",
              "        text-align: right;\n",
              "    }\n",
              "</style>\n",
              "<table border=\"1\" class=\"dataframe\">\n",
              "  <thead>\n",
              "    <tr style=\"text-align: right;\">\n",
              "      <th></th>\n",
              "      <th>Date</th>\n",
              "      <th>Total_Crimes</th>\n",
              "    </tr>\n",
              "  </thead>\n",
              "  <tbody>\n",
              "    <tr>\n",
              "      <th>0</th>\n",
              "      <td>2002-04-25</td>\n",
              "      <td>1294</td>\n",
              "    </tr>\n",
              "    <tr>\n",
              "      <th>1</th>\n",
              "      <td>2002-04-26</td>\n",
              "      <td>1367</td>\n",
              "    </tr>\n",
              "    <tr>\n",
              "      <th>2</th>\n",
              "      <td>2002-04-27</td>\n",
              "      <td>1254</td>\n",
              "    </tr>\n",
              "    <tr>\n",
              "      <th>3</th>\n",
              "      <td>2002-04-28</td>\n",
              "      <td>1119</td>\n",
              "    </tr>\n",
              "    <tr>\n",
              "      <th>4</th>\n",
              "      <td>2002-04-29</td>\n",
              "      <td>1447</td>\n",
              "    </tr>\n",
              "    <tr>\n",
              "      <th>...</th>\n",
              "      <td>...</td>\n",
              "      <td>...</td>\n",
              "    </tr>\n",
              "    <tr>\n",
              "      <th>6928</th>\n",
              "      <td>2021-04-13</td>\n",
              "      <td>481</td>\n",
              "    </tr>\n",
              "    <tr>\n",
              "      <th>6929</th>\n",
              "      <td>2021-04-14</td>\n",
              "      <td>434</td>\n",
              "    </tr>\n",
              "    <tr>\n",
              "      <th>6930</th>\n",
              "      <td>2021-04-15</td>\n",
              "      <td>443</td>\n",
              "    </tr>\n",
              "    <tr>\n",
              "      <th>6931</th>\n",
              "      <td>2021-04-16</td>\n",
              "      <td>458</td>\n",
              "    </tr>\n",
              "    <tr>\n",
              "      <th>6932</th>\n",
              "      <td>2021-04-17</td>\n",
              "      <td>474</td>\n",
              "    </tr>\n",
              "  </tbody>\n",
              "</table>\n",
              "<p>6933 rows × 2 columns</p>\n",
              "</div>"
            ],
            "text/plain": [
              "           Date  Total_Crimes\n",
              "0    2002-04-25          1294\n",
              "1    2002-04-26          1367\n",
              "2    2002-04-27          1254\n",
              "3    2002-04-28          1119\n",
              "4    2002-04-29          1447\n",
              "...         ...           ...\n",
              "6928 2021-04-13           481\n",
              "6929 2021-04-14           434\n",
              "6930 2021-04-15           443\n",
              "6931 2021-04-16           458\n",
              "6932 2021-04-17           474\n",
              "\n",
              "[6933 rows x 2 columns]"
            ]
          },
          "metadata": {
            "tags": []
          },
          "execution_count": 63
        }
      ]
    },
    {
      "cell_type": "code",
      "metadata": {
        "colab": {
          "base_uri": "https://localhost:8080/",
          "height": 402
        },
        "id": "S6cUcIBGhTAw",
        "outputId": "01a5c47e-9ddd-4066-c69f-cf420eeb01d9"
      },
      "source": [
        "# Prophet necesita un formato muy epscifico para utilizar su libreria\n",
        "# Asi que nombraremos las fechas con Date = \"ds\" y Total_Crimenes = \"y\"\n",
        "df_pr.columns = ['ds', 'y']\n",
        "df_pr"
      ],
      "execution_count": 64,
      "outputs": [
        {
          "output_type": "execute_result",
          "data": {
            "text/html": [
              "<div>\n",
              "<style scoped>\n",
              "    .dataframe tbody tr th:only-of-type {\n",
              "        vertical-align: middle;\n",
              "    }\n",
              "\n",
              "    .dataframe tbody tr th {\n",
              "        vertical-align: top;\n",
              "    }\n",
              "\n",
              "    .dataframe thead th {\n",
              "        text-align: right;\n",
              "    }\n",
              "</style>\n",
              "<table border=\"1\" class=\"dataframe\">\n",
              "  <thead>\n",
              "    <tr style=\"text-align: right;\">\n",
              "      <th></th>\n",
              "      <th>ds</th>\n",
              "      <th>y</th>\n",
              "    </tr>\n",
              "  </thead>\n",
              "  <tbody>\n",
              "    <tr>\n",
              "      <th>0</th>\n",
              "      <td>2002-04-25</td>\n",
              "      <td>1294</td>\n",
              "    </tr>\n",
              "    <tr>\n",
              "      <th>1</th>\n",
              "      <td>2002-04-26</td>\n",
              "      <td>1367</td>\n",
              "    </tr>\n",
              "    <tr>\n",
              "      <th>2</th>\n",
              "      <td>2002-04-27</td>\n",
              "      <td>1254</td>\n",
              "    </tr>\n",
              "    <tr>\n",
              "      <th>3</th>\n",
              "      <td>2002-04-28</td>\n",
              "      <td>1119</td>\n",
              "    </tr>\n",
              "    <tr>\n",
              "      <th>4</th>\n",
              "      <td>2002-04-29</td>\n",
              "      <td>1447</td>\n",
              "    </tr>\n",
              "    <tr>\n",
              "      <th>...</th>\n",
              "      <td>...</td>\n",
              "      <td>...</td>\n",
              "    </tr>\n",
              "    <tr>\n",
              "      <th>6928</th>\n",
              "      <td>2021-04-13</td>\n",
              "      <td>481</td>\n",
              "    </tr>\n",
              "    <tr>\n",
              "      <th>6929</th>\n",
              "      <td>2021-04-14</td>\n",
              "      <td>434</td>\n",
              "    </tr>\n",
              "    <tr>\n",
              "      <th>6930</th>\n",
              "      <td>2021-04-15</td>\n",
              "      <td>443</td>\n",
              "    </tr>\n",
              "    <tr>\n",
              "      <th>6931</th>\n",
              "      <td>2021-04-16</td>\n",
              "      <td>458</td>\n",
              "    </tr>\n",
              "    <tr>\n",
              "      <th>6932</th>\n",
              "      <td>2021-04-17</td>\n",
              "      <td>474</td>\n",
              "    </tr>\n",
              "  </tbody>\n",
              "</table>\n",
              "<p>6933 rows × 2 columns</p>\n",
              "</div>"
            ],
            "text/plain": [
              "             ds     y\n",
              "0    2002-04-25  1294\n",
              "1    2002-04-26  1367\n",
              "2    2002-04-27  1254\n",
              "3    2002-04-28  1119\n",
              "4    2002-04-29  1447\n",
              "...         ...   ...\n",
              "6928 2021-04-13   481\n",
              "6929 2021-04-14   434\n",
              "6930 2021-04-15   443\n",
              "6931 2021-04-16   458\n",
              "6932 2021-04-17   474\n",
              "\n",
              "[6933 rows x 2 columns]"
            ]
          },
          "metadata": {
            "tags": []
          },
          "execution_count": 64
        }
      ]
    },
    {
      "cell_type": "code",
      "metadata": {
        "id": "rVfArd2DhXfD"
      },
      "source": [
        "train_data_pr = df_pr[:len(ts_crime)-100]"
      ],
      "execution_count": 65,
      "outputs": []
    },
    {
      "cell_type": "code",
      "metadata": {
        "colab": {
          "base_uri": "https://localhost:8080/",
          "height": 316
        },
        "id": "6B6I8HqWhauP",
        "outputId": "9cc0c3db-86f9-44f1-80b8-b5e0c33c242e"
      },
      "source": [
        "m = Prophet()\n",
        "m.fit(train_data_pr)\n",
        "future = m.make_future_dataframe(periods=100)\n",
        "prophet_pred = m.predict(future)\n",
        "prophet_pred.tail()"
      ],
      "execution_count": 66,
      "outputs": [
        {
          "output_type": "stream",
          "text": [
            "INFO:fbprophet:Disabling daily seasonality. Run prophet with daily_seasonality=True to override this.\n"
          ],
          "name": "stderr"
        },
        {
          "output_type": "execute_result",
          "data": {
            "text/html": [
              "<div>\n",
              "<style scoped>\n",
              "    .dataframe tbody tr th:only-of-type {\n",
              "        vertical-align: middle;\n",
              "    }\n",
              "\n",
              "    .dataframe tbody tr th {\n",
              "        vertical-align: top;\n",
              "    }\n",
              "\n",
              "    .dataframe thead th {\n",
              "        text-align: right;\n",
              "    }\n",
              "</style>\n",
              "<table border=\"1\" class=\"dataframe\">\n",
              "  <thead>\n",
              "    <tr style=\"text-align: right;\">\n",
              "      <th></th>\n",
              "      <th>ds</th>\n",
              "      <th>trend</th>\n",
              "      <th>yhat_lower</th>\n",
              "      <th>yhat_upper</th>\n",
              "      <th>trend_lower</th>\n",
              "      <th>trend_upper</th>\n",
              "      <th>additive_terms</th>\n",
              "      <th>additive_terms_lower</th>\n",
              "      <th>additive_terms_upper</th>\n",
              "      <th>weekly</th>\n",
              "      <th>weekly_lower</th>\n",
              "      <th>weekly_upper</th>\n",
              "      <th>yearly</th>\n",
              "      <th>yearly_lower</th>\n",
              "      <th>yearly_upper</th>\n",
              "      <th>multiplicative_terms</th>\n",
              "      <th>multiplicative_terms_lower</th>\n",
              "      <th>multiplicative_terms_upper</th>\n",
              "      <th>yhat</th>\n",
              "    </tr>\n",
              "  </thead>\n",
              "  <tbody>\n",
              "    <tr>\n",
              "      <th>6928</th>\n",
              "      <td>2021-04-13</td>\n",
              "      <td>575.382052</td>\n",
              "      <td>444.688765</td>\n",
              "      <td>666.531579</td>\n",
              "      <td>575.004134</td>\n",
              "      <td>575.898922</td>\n",
              "      <td>-19.382060</td>\n",
              "      <td>-19.382060</td>\n",
              "      <td>-19.382060</td>\n",
              "      <td>-0.065312</td>\n",
              "      <td>-0.065312</td>\n",
              "      <td>-0.065312</td>\n",
              "      <td>-19.316749</td>\n",
              "      <td>-19.316749</td>\n",
              "      <td>-19.316749</td>\n",
              "      <td>0.0</td>\n",
              "      <td>0.0</td>\n",
              "      <td>0.0</td>\n",
              "      <td>555.999991</td>\n",
              "    </tr>\n",
              "    <tr>\n",
              "      <th>6929</th>\n",
              "      <td>2021-04-14</td>\n",
              "      <td>575.259605</td>\n",
              "      <td>449.990349</td>\n",
              "      <td>678.353547</td>\n",
              "      <td>574.871479</td>\n",
              "      <td>575.787899</td>\n",
              "      <td>-11.096843</td>\n",
              "      <td>-11.096843</td>\n",
              "      <td>-11.096843</td>\n",
              "      <td>6.903962</td>\n",
              "      <td>6.903962</td>\n",
              "      <td>6.903962</td>\n",
              "      <td>-18.000806</td>\n",
              "      <td>-18.000806</td>\n",
              "      <td>-18.000806</td>\n",
              "      <td>0.0</td>\n",
              "      <td>0.0</td>\n",
              "      <td>0.0</td>\n",
              "      <td>564.162762</td>\n",
              "    </tr>\n",
              "    <tr>\n",
              "      <th>6930</th>\n",
              "      <td>2021-04-15</td>\n",
              "      <td>575.137158</td>\n",
              "      <td>450.095802</td>\n",
              "      <td>669.294995</td>\n",
              "      <td>574.735433</td>\n",
              "      <td>575.676876</td>\n",
              "      <td>-20.009341</td>\n",
              "      <td>-20.009341</td>\n",
              "      <td>-20.009341</td>\n",
              "      <td>-3.460758</td>\n",
              "      <td>-3.460758</td>\n",
              "      <td>-3.460758</td>\n",
              "      <td>-16.548584</td>\n",
              "      <td>-16.548584</td>\n",
              "      <td>-16.548584</td>\n",
              "      <td>0.0</td>\n",
              "      <td>0.0</td>\n",
              "      <td>0.0</td>\n",
              "      <td>555.127817</td>\n",
              "    </tr>\n",
              "    <tr>\n",
              "      <th>6931</th>\n",
              "      <td>2021-04-16</td>\n",
              "      <td>575.014712</td>\n",
              "      <td>499.761483</td>\n",
              "      <td>729.918538</td>\n",
              "      <td>574.601999</td>\n",
              "      <td>575.565853</td>\n",
              "      <td>36.543434</td>\n",
              "      <td>36.543434</td>\n",
              "      <td>36.543434</td>\n",
              "      <td>51.512577</td>\n",
              "      <td>51.512577</td>\n",
              "      <td>51.512577</td>\n",
              "      <td>-14.969142</td>\n",
              "      <td>-14.969142</td>\n",
              "      <td>-14.969142</td>\n",
              "      <td>0.0</td>\n",
              "      <td>0.0</td>\n",
              "      <td>0.0</td>\n",
              "      <td>611.558146</td>\n",
              "    </tr>\n",
              "    <tr>\n",
              "      <th>6932</th>\n",
              "      <td>2021-04-17</td>\n",
              "      <td>574.892265</td>\n",
              "      <td>448.932033</td>\n",
              "      <td>672.133719</td>\n",
              "      <td>574.458699</td>\n",
              "      <td>575.460417</td>\n",
              "      <td>-10.634557</td>\n",
              "      <td>-10.634557</td>\n",
              "      <td>-10.634557</td>\n",
              "      <td>2.639238</td>\n",
              "      <td>2.639238</td>\n",
              "      <td>2.639238</td>\n",
              "      <td>-13.273796</td>\n",
              "      <td>-13.273796</td>\n",
              "      <td>-13.273796</td>\n",
              "      <td>0.0</td>\n",
              "      <td>0.0</td>\n",
              "      <td>0.0</td>\n",
              "      <td>564.257708</td>\n",
              "    </tr>\n",
              "  </tbody>\n",
              "</table>\n",
              "</div>"
            ],
            "text/plain": [
              "             ds       trend  ...  multiplicative_terms_upper        yhat\n",
              "6928 2021-04-13  575.382052  ...                         0.0  555.999991\n",
              "6929 2021-04-14  575.259605  ...                         0.0  564.162762\n",
              "6930 2021-04-15  575.137158  ...                         0.0  555.127817\n",
              "6931 2021-04-16  575.014712  ...                         0.0  611.558146\n",
              "6932 2021-04-17  574.892265  ...                         0.0  564.257708\n",
              "\n",
              "[5 rows x 19 columns]"
            ]
          },
          "metadata": {
            "tags": []
          },
          "execution_count": 66
        }
      ]
    },
    {
      "cell_type": "code",
      "metadata": {
        "colab": {
          "base_uri": "https://localhost:8080/",
          "height": 402
        },
        "id": "W47XNGfbhesd",
        "outputId": "16886133-7ac4-4772-a150-e9e4d598568b"
      },
      "source": [
        "test_data = prophet_pred[[\"ds\", \"yhat\"]][-100:]\n",
        "test_data"
      ],
      "execution_count": 67,
      "outputs": [
        {
          "output_type": "execute_result",
          "data": {
            "text/html": [
              "<div>\n",
              "<style scoped>\n",
              "    .dataframe tbody tr th:only-of-type {\n",
              "        vertical-align: middle;\n",
              "    }\n",
              "\n",
              "    .dataframe tbody tr th {\n",
              "        vertical-align: top;\n",
              "    }\n",
              "\n",
              "    .dataframe thead th {\n",
              "        text-align: right;\n",
              "    }\n",
              "</style>\n",
              "<table border=\"1\" class=\"dataframe\">\n",
              "  <thead>\n",
              "    <tr style=\"text-align: right;\">\n",
              "      <th></th>\n",
              "      <th>ds</th>\n",
              "      <th>yhat</th>\n",
              "    </tr>\n",
              "  </thead>\n",
              "  <tbody>\n",
              "    <tr>\n",
              "      <th>6833</th>\n",
              "      <td>2021-01-08</td>\n",
              "      <td>539.788182</td>\n",
              "    </tr>\n",
              "    <tr>\n",
              "      <th>6834</th>\n",
              "      <td>2021-01-09</td>\n",
              "      <td>492.513785</td>\n",
              "    </tr>\n",
              "    <tr>\n",
              "      <th>6835</th>\n",
              "      <td>2021-01-10</td>\n",
              "      <td>445.831530</td>\n",
              "    </tr>\n",
              "    <tr>\n",
              "      <th>6836</th>\n",
              "      <td>2021-01-11</td>\n",
              "      <td>480.378049</td>\n",
              "    </tr>\n",
              "    <tr>\n",
              "      <th>6837</th>\n",
              "      <td>2021-01-12</td>\n",
              "      <td>493.291764</td>\n",
              "    </tr>\n",
              "    <tr>\n",
              "      <th>...</th>\n",
              "      <td>...</td>\n",
              "      <td>...</td>\n",
              "    </tr>\n",
              "    <tr>\n",
              "      <th>6928</th>\n",
              "      <td>2021-04-13</td>\n",
              "      <td>555.999991</td>\n",
              "    </tr>\n",
              "    <tr>\n",
              "      <th>6929</th>\n",
              "      <td>2021-04-14</td>\n",
              "      <td>564.162762</td>\n",
              "    </tr>\n",
              "    <tr>\n",
              "      <th>6930</th>\n",
              "      <td>2021-04-15</td>\n",
              "      <td>555.127817</td>\n",
              "    </tr>\n",
              "    <tr>\n",
              "      <th>6931</th>\n",
              "      <td>2021-04-16</td>\n",
              "      <td>611.558146</td>\n",
              "    </tr>\n",
              "    <tr>\n",
              "      <th>6932</th>\n",
              "      <td>2021-04-17</td>\n",
              "      <td>564.257708</td>\n",
              "    </tr>\n",
              "  </tbody>\n",
              "</table>\n",
              "<p>100 rows × 2 columns</p>\n",
              "</div>"
            ],
            "text/plain": [
              "             ds        yhat\n",
              "6833 2021-01-08  539.788182\n",
              "6834 2021-01-09  492.513785\n",
              "6835 2021-01-10  445.831530\n",
              "6836 2021-01-11  480.378049\n",
              "6837 2021-01-12  493.291764\n",
              "...         ...         ...\n",
              "6928 2021-04-13  555.999991\n",
              "6929 2021-04-14  564.162762\n",
              "6930 2021-04-15  555.127817\n",
              "6931 2021-04-16  611.558146\n",
              "6932 2021-04-17  564.257708\n",
              "\n",
              "[100 rows x 2 columns]"
            ]
          },
          "metadata": {
            "tags": []
          },
          "execution_count": 67
        }
      ]
    },
    {
      "cell_type": "code",
      "metadata": {
        "colab": {
          "base_uri": "https://localhost:8080/"
        },
        "id": "DArhvwXkh6AJ",
        "outputId": "07a7b4ea-620a-40f1-879d-9e0393b73d4f"
      },
      "source": [
        "test_data = prophet_pred[[\"ds\", \"yhat\"]]\n",
        "test_data[\"Real\"] = ts_crime[\"Total_Crimes\"]"
      ],
      "execution_count": 69,
      "outputs": [
        {
          "output_type": "stream",
          "text": [
            "/usr/local/lib/python3.7/dist-packages/ipykernel_launcher.py:2: SettingWithCopyWarning:\n",
            "\n",
            "\n",
            "A value is trying to be set on a copy of a slice from a DataFrame.\n",
            "Try using .loc[row_indexer,col_indexer] = value instead\n",
            "\n",
            "See the caveats in the documentation: https://pandas.pydata.org/pandas-docs/stable/user_guide/indexing.html#returning-a-view-versus-a-copy\n",
            "\n"
          ],
          "name": "stderr"
        }
      ]
    },
    {
      "cell_type": "code",
      "metadata": {
        "colab": {
          "base_uri": "https://localhost:8080/",
          "height": 334
        },
        "id": "ragm7xOCh2B6",
        "outputId": "dd59fdae-95c8-4fbc-c737-f28d7e48fcab"
      },
      "source": [
        "plt.figure(figsize=(16,5))\n",
        "ax = sns.lineplot(x= test_data['ds'], y=test_data[\"Real\"], label = \"real\")\n",
        "sns.lineplot(x=test_data['ds'], y = test_data[\"yhat\"], label= \"prediccion\");"
      ],
      "execution_count": 70,
      "outputs": [
        {
          "output_type": "display_data",
          "data": {
            "image/png": "[encoded data removed]",
            "text/plain": [
              "<Figure size 1152x360 with 1 Axes>"
            ]
          },
          "metadata": {
            "tags": [],
            "needs_background": "light"
          }
        }
      ]
    },
    {
      "cell_type": "markdown",
      "metadata": {
        "id": "kfVXv2XUNjfC"
      },
      "source": [
        "## Entrenamiento de modelo por cada distrito"
      ]
    },
    {
      "cell_type": "code",
      "metadata": {
        "id": "7ytpiaylTI6S"
      },
      "source": [
        "# Importamos Prophet\n",
        "from fbprophet import Prophet"
      ],
      "execution_count": 32,
      "outputs": []
    },
    {
      "cell_type": "code",
      "metadata": {
        "id": "YLJMWGw6Nmu7"
      },
      "source": [
        "url = \"https://raw.githubusercontent.com/EduHdzVillasana/Proyecto_ML_BEDU/main/crimes_by_districts.csv\"\n",
        "df_districts = pd.read_csv(url, index_col=0)"
      ],
      "execution_count": 30,
      "outputs": []
    },
    {
      "cell_type": "code",
      "metadata": {
        "colab": {
          "base_uri": "https://localhost:8080/",
          "height": 316
        },
        "id": "d6K-GESiNuvo",
        "outputId": "43eeeaa6-47e9-40ce-aa8d-37ea48c6c375"
      },
      "source": [
        "df_districts.sample(5)"
      ],
      "execution_count": 31,
      "outputs": [
        {
          "output_type": "execute_result",
          "data": {
            "text/html": [
              "<div>\n",
              "<style scoped>\n",
              "    .dataframe tbody tr th:only-of-type {\n",
              "        vertical-align: middle;\n",
              "    }\n",
              "\n",
              "    .dataframe tbody tr th {\n",
              "        vertical-align: top;\n",
              "    }\n",
              "\n",
              "    .dataframe thead th {\n",
              "        text-align: right;\n",
              "    }\n",
              "</style>\n",
              "<table border=\"1\" class=\"dataframe\">\n",
              "  <thead>\n",
              "    <tr style=\"text-align: right;\">\n",
              "      <th></th>\n",
              "      <th>Date</th>\n",
              "      <th>Total_Crimes</th>\n",
              "      <th>District 1</th>\n",
              "      <th>District 2</th>\n",
              "      <th>District 3</th>\n",
              "      <th>District 4</th>\n",
              "      <th>District 5</th>\n",
              "      <th>District 6</th>\n",
              "      <th>District 7</th>\n",
              "      <th>District 8</th>\n",
              "      <th>District 9</th>\n",
              "      <th>District 10</th>\n",
              "      <th>District 11</th>\n",
              "      <th>District 12</th>\n",
              "      <th>District 14</th>\n",
              "      <th>District 15</th>\n",
              "      <th>District 16</th>\n",
              "      <th>District 17</th>\n",
              "      <th>District 18</th>\n",
              "      <th>District 19</th>\n",
              "      <th>District 20</th>\n",
              "      <th>District 22</th>\n",
              "      <th>District 24</th>\n",
              "      <th>District 25</th>\n",
              "    </tr>\n",
              "  </thead>\n",
              "  <tbody>\n",
              "    <tr>\n",
              "      <th>1398</th>\n",
              "      <td>2006-02-21</td>\n",
              "      <td>1031</td>\n",
              "      <td>30.0</td>\n",
              "      <td>57.0</td>\n",
              "      <td>53.0</td>\n",
              "      <td>54</td>\n",
              "      <td>47.0</td>\n",
              "      <td>59.0</td>\n",
              "      <td>67.0</td>\n",
              "      <td>76.0</td>\n",
              "      <td>50.0</td>\n",
              "      <td>41.0</td>\n",
              "      <td>57.0</td>\n",
              "      <td>41.0</td>\n",
              "      <td>57.0</td>\n",
              "      <td>37.0</td>\n",
              "      <td>35.0</td>\n",
              "      <td>24.0</td>\n",
              "      <td>34.0</td>\n",
              "      <td>54.0</td>\n",
              "      <td>30.0</td>\n",
              "      <td>31.0</td>\n",
              "      <td>27.0</td>\n",
              "      <td>70.0</td>\n",
              "    </tr>\n",
              "    <tr>\n",
              "      <th>5036</th>\n",
              "      <td>2016-02-07</td>\n",
              "      <td>614</td>\n",
              "      <td>29.0</td>\n",
              "      <td>24.0</td>\n",
              "      <td>28.0</td>\n",
              "      <td>33</td>\n",
              "      <td>25.0</td>\n",
              "      <td>30.0</td>\n",
              "      <td>30.0</td>\n",
              "      <td>38.0</td>\n",
              "      <td>32.0</td>\n",
              "      <td>26.0</td>\n",
              "      <td>49.0</td>\n",
              "      <td>28.0</td>\n",
              "      <td>31.0</td>\n",
              "      <td>24.0</td>\n",
              "      <td>24.0</td>\n",
              "      <td>21.0</td>\n",
              "      <td>37.0</td>\n",
              "      <td>26.0</td>\n",
              "      <td>11.0</td>\n",
              "      <td>22.0</td>\n",
              "      <td>19.0</td>\n",
              "      <td>27.0</td>\n",
              "    </tr>\n",
              "    <tr>\n",
              "      <th>4809</th>\n",
              "      <td>2015-06-25</td>\n",
              "      <td>771</td>\n",
              "      <td>29.0</td>\n",
              "      <td>29.0</td>\n",
              "      <td>39.0</td>\n",
              "      <td>57</td>\n",
              "      <td>38.0</td>\n",
              "      <td>52.0</td>\n",
              "      <td>52.0</td>\n",
              "      <td>46.0</td>\n",
              "      <td>32.0</td>\n",
              "      <td>29.0</td>\n",
              "      <td>80.0</td>\n",
              "      <td>37.0</td>\n",
              "      <td>17.0</td>\n",
              "      <td>42.0</td>\n",
              "      <td>28.0</td>\n",
              "      <td>10.0</td>\n",
              "      <td>29.0</td>\n",
              "      <td>36.0</td>\n",
              "      <td>11.0</td>\n",
              "      <td>29.0</td>\n",
              "      <td>19.0</td>\n",
              "      <td>30.0</td>\n",
              "    </tr>\n",
              "    <tr>\n",
              "      <th>4894</th>\n",
              "      <td>2015-09-18</td>\n",
              "      <td>761</td>\n",
              "      <td>35.0</td>\n",
              "      <td>41.0</td>\n",
              "      <td>32.0</td>\n",
              "      <td>55</td>\n",
              "      <td>38.0</td>\n",
              "      <td>45.0</td>\n",
              "      <td>39.0</td>\n",
              "      <td>41.0</td>\n",
              "      <td>45.0</td>\n",
              "      <td>35.0</td>\n",
              "      <td>53.0</td>\n",
              "      <td>31.0</td>\n",
              "      <td>30.0</td>\n",
              "      <td>35.0</td>\n",
              "      <td>18.0</td>\n",
              "      <td>22.0</td>\n",
              "      <td>38.0</td>\n",
              "      <td>39.0</td>\n",
              "      <td>15.0</td>\n",
              "      <td>17.0</td>\n",
              "      <td>13.0</td>\n",
              "      <td>44.0</td>\n",
              "    </tr>\n",
              "    <tr>\n",
              "      <th>5700</th>\n",
              "      <td>2017-12-02</td>\n",
              "      <td>742</td>\n",
              "      <td>50.0</td>\n",
              "      <td>33.0</td>\n",
              "      <td>39.0</td>\n",
              "      <td>36</td>\n",
              "      <td>31.0</td>\n",
              "      <td>54.0</td>\n",
              "      <td>28.0</td>\n",
              "      <td>39.0</td>\n",
              "      <td>29.0</td>\n",
              "      <td>42.0</td>\n",
              "      <td>45.0</td>\n",
              "      <td>37.0</td>\n",
              "      <td>24.0</td>\n",
              "      <td>25.0</td>\n",
              "      <td>27.0</td>\n",
              "      <td>20.0</td>\n",
              "      <td>59.0</td>\n",
              "      <td>28.0</td>\n",
              "      <td>10.0</td>\n",
              "      <td>16.0</td>\n",
              "      <td>29.0</td>\n",
              "      <td>41.0</td>\n",
              "    </tr>\n",
              "  </tbody>\n",
              "</table>\n",
              "</div>"
            ],
            "text/plain": [
              "            Date  Total_Crimes  ...  District 24  District 25\n",
              "1398  2006-02-21          1031  ...         27.0         70.0\n",
              "5036  2016-02-07           614  ...         19.0         27.0\n",
              "4809  2015-06-25           771  ...         19.0         30.0\n",
              "4894  2015-09-18           761  ...         13.0         44.0\n",
              "5700  2017-12-02           742  ...         29.0         41.0\n",
              "\n",
              "[5 rows x 24 columns]"
            ]
          },
          "metadata": {
            "tags": []
          },
          "execution_count": 31
        }
      ]
    },
    {
      "cell_type": "code",
      "metadata": {
        "id": "-Sr95lJ4UWqH"
      },
      "source": [
        "def get_metrics (real, prediction, label = \"\"):\n",
        "  from sklearn.metrics import mean_squared_error\n",
        "  from sklearn.metrics import r2_score\n",
        "  MSE = (mean_squared_error(real, prediction))\n",
        "  r2 = (r2_score(real, prediction))\n",
        "  print(label +\" MSE = \"+str(MSE) + \" r^2 = \"+str(r2))"
      ],
      "execution_count": 38,
      "outputs": []
    },
    {
      "cell_type": "code",
      "metadata": {
        "colab": {
          "base_uri": "https://localhost:8080/"
        },
        "id": "gy61qAvlNwXA",
        "outputId": "c0f67f7e-d422-434e-c99c-a3bb4c30da9f"
      },
      "source": [
        "predictions_dict = {}\n",
        "models_by_district = {}\n",
        "for district in districts:\n",
        "  district_string = f\"District {district}\"\n",
        "  df_tmp = df_districts[[\"Date\",district_string]].copy()\n",
        "  df_tmp.columns = ['ds', 'y']\n",
        "  model = Prophet();\n",
        "  model.fit(df_tmp)\n",
        "  models_by_district[district_string] = model\n",
        "  future = model.make_future_dataframe(periods = 100)\n",
        "  prediction = model.predict(future)\n",
        "  prediction = prediction[[\"ds\",\"yhat\"]]\n",
        "  predictions_dict[district_string] = prediction[\"yhat\"][-100:]\n",
        "  get_metrics(df_tmp[\"y\"], prediction[\"yhat\"][:-100], district_string)\n",
        "  predictions_dict[\"Date\"] = prediction[\"ds\"]\n",
        "  "
      ],
      "execution_count": 58,
      "outputs": [
        {
          "output_type": "stream",
          "text": [
            "INFO:fbprophet:Disabling daily seasonality. Run prophet with daily_seasonality=True to override this.\n"
          ],
          "name": "stderr"
        },
        {
          "output_type": "stream",
          "text": [
            "District 1 MSE = 82.38468270560837 r^2 = 0.47075407051018237\n"
          ],
          "name": "stdout"
        },
        {
          "output_type": "stream",
          "text": [
            "INFO:fbprophet:Disabling daily seasonality. Run prophet with daily_seasonality=True to override this.\n"
          ],
          "name": "stderr"
        },
        {
          "output_type": "stream",
          "text": [
            "District 2 MSE = 72.89431938836422 r^2 = 0.7487736731324428\n"
          ],
          "name": "stdout"
        },
        {
          "output_type": "stream",
          "text": [
            "INFO:fbprophet:Disabling daily seasonality. Run prophet with daily_seasonality=True to override this.\n",
            "INFO:fbprophet:Disabling daily seasonality. Run prophet with daily_seasonality=True to override this.\n"
          ],
          "name": "stderr"
        },
        {
          "output_type": "stream",
          "text": [
            "District 3 MSE = 72.38293518098352 r^2 = 0.7344055530917084\n",
            "District 4 MSE = 86.93468595854317 r^2 = 0.7032851732907541\n"
          ],
          "name": "stdout"
        },
        {
          "output_type": "stream",
          "text": [
            "INFO:fbprophet:Disabling daily seasonality. Run prophet with daily_seasonality=True to override this.\n",
            "INFO:fbprophet:Disabling daily seasonality. Run prophet with daily_seasonality=True to override this.\n"
          ],
          "name": "stderr"
        },
        {
          "output_type": "stream",
          "text": [
            "District 5 MSE = 63.722582385487726 r^2 = 0.66347793215521\n"
          ],
          "name": "stdout"
        },
        {
          "output_type": "stream",
          "text": [
            "INFO:fbprophet:Disabling daily seasonality. Run prophet with daily_seasonality=True to override this.\n"
          ],
          "name": "stderr"
        },
        {
          "output_type": "stream",
          "text": [
            "District 6 MSE = 85.57254597575515 r^2 = 0.6568800236591888\n"
          ],
          "name": "stdout"
        },
        {
          "output_type": "stream",
          "text": [
            "INFO:fbprophet:Disabling daily seasonality. Run prophet with daily_seasonality=True to override this.\n"
          ],
          "name": "stderr"
        },
        {
          "output_type": "stream",
          "text": [
            "District 7 MSE = 96.85635795914881 r^2 = 0.7611552789282959\n"
          ],
          "name": "stdout"
        },
        {
          "output_type": "stream",
          "text": [
            "INFO:fbprophet:Disabling daily seasonality. Run prophet with daily_seasonality=True to override this.\n"
          ],
          "name": "stderr"
        },
        {
          "output_type": "stream",
          "text": [
            "District 8 MSE = 103.3802586643919 r^2 = 0.7828192032735638\n"
          ],
          "name": "stdout"
        },
        {
          "output_type": "stream",
          "text": [
            "INFO:fbprophet:Disabling daily seasonality. Run prophet with daily_seasonality=True to override this.\n"
          ],
          "name": "stderr"
        },
        {
          "output_type": "stream",
          "text": [
            "District 9 MSE = 70.44584515912781 r^2 = 0.7578205416064194\n"
          ],
          "name": "stdout"
        },
        {
          "output_type": "stream",
          "text": [
            "INFO:fbprophet:Disabling daily seasonality. Run prophet with daily_seasonality=True to override this.\n"
          ],
          "name": "stderr"
        },
        {
          "output_type": "stream",
          "text": [
            "District 10 MSE = 64.8303047086591 r^2 = 0.5686079646822246\n"
          ],
          "name": "stdout"
        },
        {
          "output_type": "stream",
          "text": [
            "INFO:fbprophet:Disabling daily seasonality. Run prophet with daily_seasonality=True to override this.\n"
          ],
          "name": "stderr"
        },
        {
          "output_type": "stream",
          "text": [
            "District 11 MSE = 153.34704126184906 r^2 = 0.5484377404931537\n",
            "District 12 MSE = 73.8465264609867 r^2 = 0.7044288891578541\n"
          ],
          "name": "stdout"
        },
        {
          "output_type": "stream",
          "text": [
            "INFO:fbprophet:Disabling daily seasonality. Run prophet with daily_seasonality=True to override this.\n",
            "INFO:fbprophet:Disabling daily seasonality. Run prophet with daily_seasonality=True to override this.\n"
          ],
          "name": "stderr"
        },
        {
          "output_type": "stream",
          "text": [
            "District 14 MSE = 55.835759340213265 r^2 = 0.7327155942977185\n"
          ],
          "name": "stdout"
        },
        {
          "output_type": "stream",
          "text": [
            "INFO:fbprophet:Disabling daily seasonality. Run prophet with daily_seasonality=True to override this.\n"
          ],
          "name": "stderr"
        },
        {
          "output_type": "stream",
          "text": [
            "District 15 MSE = 105.37161777194011 r^2 = 0.5795716626719775\n"
          ],
          "name": "stdout"
        },
        {
          "output_type": "stream",
          "text": [
            "INFO:fbprophet:Disabling daily seasonality. Run prophet with daily_seasonality=True to override this.\n"
          ],
          "name": "stderr"
        },
        {
          "output_type": "stream",
          "text": [
            "District 16 MSE = 44.07846115373398 r^2 = 0.5742892128273562\n"
          ],
          "name": "stdout"
        },
        {
          "output_type": "stream",
          "text": [
            "INFO:fbprophet:Disabling daily seasonality. Run prophet with daily_seasonality=True to override this.\n"
          ],
          "name": "stderr"
        },
        {
          "output_type": "stream",
          "text": [
            "District 17 MSE = 36.52964078186977 r^2 = 0.6076954700313704\n"
          ],
          "name": "stdout"
        },
        {
          "output_type": "stream",
          "text": [
            "INFO:fbprophet:Disabling daily seasonality. Run prophet with daily_seasonality=True to override this.\n"
          ],
          "name": "stderr"
        },
        {
          "output_type": "stream",
          "text": [
            "District 18 MSE = 80.79208065199471 r^2 = 0.5901386346580104\n"
          ],
          "name": "stdout"
        },
        {
          "output_type": "stream",
          "text": [
            "INFO:fbprophet:Disabling daily seasonality. Run prophet with daily_seasonality=True to override this.\n"
          ],
          "name": "stderr"
        },
        {
          "output_type": "stream",
          "text": [
            "District 19 MSE = 73.19618549561947 r^2 = 0.6599999835635757\n"
          ],
          "name": "stdout"
        },
        {
          "output_type": "stream",
          "text": [
            "INFO:fbprophet:Disabling daily seasonality. Run prophet with daily_seasonality=True to override this.\n"
          ],
          "name": "stderr"
        },
        {
          "output_type": "stream",
          "text": [
            "District 20 MSE = 21.09238424556251 r^2 = 0.5211987101205685\n"
          ],
          "name": "stdout"
        },
        {
          "output_type": "stream",
          "text": [
            "INFO:fbprophet:Disabling daily seasonality. Run prophet with daily_seasonality=True to override this.\n"
          ],
          "name": "stderr"
        },
        {
          "output_type": "stream",
          "text": [
            "District 22 MSE = 44.796768531783854 r^2 = 0.6350453728611716\n"
          ],
          "name": "stdout"
        },
        {
          "output_type": "stream",
          "text": [
            "INFO:fbprophet:Disabling daily seasonality. Run prophet with daily_seasonality=True to override this.\n"
          ],
          "name": "stderr"
        },
        {
          "output_type": "stream",
          "text": [
            "District 24 MSE = 37.702837787341494 r^2 = 0.6463714272901413\n",
            "District 25 MSE = 84.5326355750513 r^2 = 0.7505193677474984\n"
          ],
          "name": "stdout"
        }
      ]
    },
    {
      "cell_type": "markdown",
      "metadata": {
        "id": "u40ZuDquUxbx"
      },
      "source": [
        "\n",
        "|Distrito |MSE |$r^2$ |\n",
        "|---------|----|------|\n",
        "| District 1| 82.38 | 0.47|\n",
        "| District 2| 72.89 | 0.74|\n",
        "| District 3| 72.38 | 0.73|\n",
        "| District 4| 86.93 | 0.70|\n",
        "| District 5| 63.72 | 0.66|\n",
        "| District 6| 85.57 | 0.65|\n",
        "| District 7| 96.85 | 0.76|\n",
        "| District 8| 103.38 | 0.78|\n",
        "| District 9| 70.44 | 0.75|\n",
        "| District 10| 64.83 | 0.56|\n",
        "| District 11| 153.34 | 0.54|\n",
        "| District 12| 73.84 | 0.70|\n",
        "| District 14| 55.83 | 0.73|\n",
        "| District 15| 105.37 | 0.57|\n",
        "| District 16| 44.07 | 0.57|\n",
        "| District 17| 36.52 | 0.60|\n",
        "| District 18| 80.79 | 0.59|\n",
        "| District 19| 73.19 | 0.65|\n",
        "| District 20| 21.09 | 0.52|\n",
        "| District 22| 44.79 | 0.63|\n",
        "| District 24| 37.70 | 0.64|\n",
        "| District 25| 84.53 | 0.75|"
      ]
    },
    {
      "cell_type": "code",
      "metadata": {
        "id": "zPkHB9DJfGIg"
      },
      "source": [
        "real = predictions_df[:-100].copy()\n",
        "predictions_df = predictions_df[-100:]"
      ],
      "execution_count": null,
      "outputs": []
    },
    {
      "cell_type": "code",
      "metadata": {
        "colab": {
          "base_uri": "https://localhost:8080/",
          "height": 606
        },
        "id": "BBzEfhaNZLwy",
        "outputId": "2db74e4a-99e0-4e51-93e0-711dea450759"
      },
      "source": [
        "predictions_df = pd.DataFrame(predictions_dict)\n",
        "predictions_df[\"Date\"] = pd.to_datetime(predictions_df.Date)\n",
        "predictions_df"
      ],
      "execution_count": 43,
      "outputs": [
        {
          "output_type": "execute_result",
          "data": {
            "text/html": [
              "<div>\n",
              "<style scoped>\n",
              "    .dataframe tbody tr th:only-of-type {\n",
              "        vertical-align: middle;\n",
              "    }\n",
              "\n",
              "    .dataframe tbody tr th {\n",
              "        vertical-align: top;\n",
              "    }\n",
              "\n",
              "    .dataframe thead th {\n",
              "        text-align: right;\n",
              "    }\n",
              "</style>\n",
              "<table border=\"1\" class=\"dataframe\">\n",
              "  <thead>\n",
              "    <tr style=\"text-align: right;\">\n",
              "      <th></th>\n",
              "      <th>District 1</th>\n",
              "      <th>Date</th>\n",
              "      <th>District 2</th>\n",
              "      <th>District 3</th>\n",
              "      <th>District 4</th>\n",
              "      <th>District 5</th>\n",
              "      <th>District 6</th>\n",
              "      <th>District 7</th>\n",
              "      <th>District 8</th>\n",
              "      <th>District 9</th>\n",
              "      <th>District 10</th>\n",
              "      <th>District 11</th>\n",
              "      <th>District 12</th>\n",
              "      <th>District 14</th>\n",
              "      <th>District 15</th>\n",
              "      <th>District 16</th>\n",
              "      <th>District 17</th>\n",
              "      <th>District 18</th>\n",
              "      <th>District 19</th>\n",
              "      <th>District 20</th>\n",
              "      <th>District 22</th>\n",
              "      <th>District 24</th>\n",
              "      <th>District 25</th>\n",
              "    </tr>\n",
              "  </thead>\n",
              "  <tbody>\n",
              "    <tr>\n",
              "      <th>6934</th>\n",
              "      <td>18.910364</td>\n",
              "      <td>2021-04-19</td>\n",
              "      <td>25.596999</td>\n",
              "      <td>31.079584</td>\n",
              "      <td>32.859363</td>\n",
              "      <td>28.830553</td>\n",
              "      <td>39.372808</td>\n",
              "      <td>31.835393</td>\n",
              "      <td>34.338502</td>\n",
              "      <td>23.288536</td>\n",
              "      <td>26.752598</td>\n",
              "      <td>38.331101</td>\n",
              "      <td>24.257470</td>\n",
              "      <td>14.812822</td>\n",
              "      <td>22.750593</td>\n",
              "      <td>19.366890</td>\n",
              "      <td>15.617319</td>\n",
              "      <td>16.755465</td>\n",
              "      <td>20.660821</td>\n",
              "      <td>10.985226</td>\n",
              "      <td>19.118013</td>\n",
              "      <td>18.295258</td>\n",
              "      <td>28.604875</td>\n",
              "    </tr>\n",
              "    <tr>\n",
              "      <th>6935</th>\n",
              "      <td>20.553363</td>\n",
              "      <td>2021-04-20</td>\n",
              "      <td>26.585258</td>\n",
              "      <td>31.762654</td>\n",
              "      <td>33.771702</td>\n",
              "      <td>28.870860</td>\n",
              "      <td>40.431176</td>\n",
              "      <td>33.599824</td>\n",
              "      <td>33.847435</td>\n",
              "      <td>23.778793</td>\n",
              "      <td>27.146427</td>\n",
              "      <td>43.200979</td>\n",
              "      <td>25.224541</td>\n",
              "      <td>14.861530</td>\n",
              "      <td>24.087060</td>\n",
              "      <td>19.237609</td>\n",
              "      <td>15.435001</td>\n",
              "      <td>16.874580</td>\n",
              "      <td>19.899961</td>\n",
              "      <td>11.066721</td>\n",
              "      <td>19.541104</td>\n",
              "      <td>17.841880</td>\n",
              "      <td>28.687659</td>\n",
              "    </tr>\n",
              "    <tr>\n",
              "      <th>6936</th>\n",
              "      <td>20.606484</td>\n",
              "      <td>2021-04-21</td>\n",
              "      <td>26.866922</td>\n",
              "      <td>31.449258</td>\n",
              "      <td>34.456836</td>\n",
              "      <td>29.438194</td>\n",
              "      <td>40.698115</td>\n",
              "      <td>33.838352</td>\n",
              "      <td>34.682544</td>\n",
              "      <td>24.072779</td>\n",
              "      <td>27.279232</td>\n",
              "      <td>43.980788</td>\n",
              "      <td>25.622119</td>\n",
              "      <td>15.469633</td>\n",
              "      <td>24.374323</td>\n",
              "      <td>19.479927</td>\n",
              "      <td>15.226587</td>\n",
              "      <td>18.654935</td>\n",
              "      <td>20.724115</td>\n",
              "      <td>11.248711</td>\n",
              "      <td>20.120632</td>\n",
              "      <td>18.127848</td>\n",
              "      <td>28.834906</td>\n",
              "    </tr>\n",
              "    <tr>\n",
              "      <th>6937</th>\n",
              "      <td>20.481543</td>\n",
              "      <td>2021-04-22</td>\n",
              "      <td>25.849661</td>\n",
              "      <td>30.777223</td>\n",
              "      <td>33.672193</td>\n",
              "      <td>29.063282</td>\n",
              "      <td>39.250950</td>\n",
              "      <td>32.605998</td>\n",
              "      <td>34.070697</td>\n",
              "      <td>23.884175</td>\n",
              "      <td>26.938858</td>\n",
              "      <td>43.463020</td>\n",
              "      <td>25.510490</td>\n",
              "      <td>15.524508</td>\n",
              "      <td>23.896764</td>\n",
              "      <td>19.361512</td>\n",
              "      <td>14.918441</td>\n",
              "      <td>19.365700</td>\n",
              "      <td>21.184909</td>\n",
              "      <td>11.080561</td>\n",
              "      <td>19.627073</td>\n",
              "      <td>17.610601</td>\n",
              "      <td>28.771769</td>\n",
              "    </tr>\n",
              "    <tr>\n",
              "      <th>6938</th>\n",
              "      <td>23.481127</td>\n",
              "      <td>2021-04-23</td>\n",
              "      <td>27.190496</td>\n",
              "      <td>32.555330</td>\n",
              "      <td>35.802809</td>\n",
              "      <td>30.200775</td>\n",
              "      <td>42.022001</td>\n",
              "      <td>35.136949</td>\n",
              "      <td>37.840579</td>\n",
              "      <td>27.060461</td>\n",
              "      <td>29.863420</td>\n",
              "      <td>44.472818</td>\n",
              "      <td>29.685979</td>\n",
              "      <td>18.746413</td>\n",
              "      <td>25.591551</td>\n",
              "      <td>21.827830</td>\n",
              "      <td>16.590324</td>\n",
              "      <td>25.891306</td>\n",
              "      <td>25.199236</td>\n",
              "      <td>12.002418</td>\n",
              "      <td>21.405688</td>\n",
              "      <td>19.160130</td>\n",
              "      <td>31.961274</td>\n",
              "    </tr>\n",
              "    <tr>\n",
              "      <th>...</th>\n",
              "      <td>...</td>\n",
              "      <td>...</td>\n",
              "      <td>...</td>\n",
              "      <td>...</td>\n",
              "      <td>...</td>\n",
              "      <td>...</td>\n",
              "      <td>...</td>\n",
              "      <td>...</td>\n",
              "      <td>...</td>\n",
              "      <td>...</td>\n",
              "      <td>...</td>\n",
              "      <td>...</td>\n",
              "      <td>...</td>\n",
              "      <td>...</td>\n",
              "      <td>...</td>\n",
              "      <td>...</td>\n",
              "      <td>...</td>\n",
              "      <td>...</td>\n",
              "      <td>...</td>\n",
              "      <td>...</td>\n",
              "      <td>...</td>\n",
              "      <td>...</td>\n",
              "      <td>...</td>\n",
              "    </tr>\n",
              "    <tr>\n",
              "      <th>7029</th>\n",
              "      <td>29.139802</td>\n",
              "      <td>2021-07-23</td>\n",
              "      <td>31.962828</td>\n",
              "      <td>37.706231</td>\n",
              "      <td>41.016213</td>\n",
              "      <td>33.030718</td>\n",
              "      <td>45.467293</td>\n",
              "      <td>41.317116</td>\n",
              "      <td>41.745256</td>\n",
              "      <td>31.580421</td>\n",
              "      <td>32.679949</td>\n",
              "      <td>47.410601</td>\n",
              "      <td>35.972419</td>\n",
              "      <td>24.883834</td>\n",
              "      <td>28.257800</td>\n",
              "      <td>24.410967</td>\n",
              "      <td>18.004706</td>\n",
              "      <td>31.457978</td>\n",
              "      <td>32.752753</td>\n",
              "      <td>13.117335</td>\n",
              "      <td>24.261561</td>\n",
              "      <td>22.973234</td>\n",
              "      <td>35.394797</td>\n",
              "    </tr>\n",
              "    <tr>\n",
              "      <th>7030</th>\n",
              "      <td>22.466965</td>\n",
              "      <td>2021-07-24</td>\n",
              "      <td>28.090314</td>\n",
              "      <td>34.271145</td>\n",
              "      <td>36.399523</td>\n",
              "      <td>30.647152</td>\n",
              "      <td>42.439161</td>\n",
              "      <td>38.285073</td>\n",
              "      <td>38.284391</td>\n",
              "      <td>30.223163</td>\n",
              "      <td>32.210932</td>\n",
              "      <td>44.111449</td>\n",
              "      <td>31.990226</td>\n",
              "      <td>25.334964</td>\n",
              "      <td>26.358909</td>\n",
              "      <td>22.196040</td>\n",
              "      <td>15.982342</td>\n",
              "      <td>35.283672</td>\n",
              "      <td>34.199214</td>\n",
              "      <td>11.525112</td>\n",
              "      <td>20.491061</td>\n",
              "      <td>21.573118</td>\n",
              "      <td>33.156050</td>\n",
              "    </tr>\n",
              "    <tr>\n",
              "      <th>7031</th>\n",
              "      <td>16.922561</td>\n",
              "      <td>2021-07-25</td>\n",
              "      <td>25.903340</td>\n",
              "      <td>32.761972</td>\n",
              "      <td>35.089510</td>\n",
              "      <td>29.613233</td>\n",
              "      <td>39.659834</td>\n",
              "      <td>36.436094</td>\n",
              "      <td>36.160386</td>\n",
              "      <td>29.338587</td>\n",
              "      <td>31.181919</td>\n",
              "      <td>38.655676</td>\n",
              "      <td>29.180120</td>\n",
              "      <td>23.081160</td>\n",
              "      <td>23.962239</td>\n",
              "      <td>21.353145</td>\n",
              "      <td>15.355816</td>\n",
              "      <td>28.761074</td>\n",
              "      <td>30.684971</td>\n",
              "      <td>10.712413</td>\n",
              "      <td>19.817880</td>\n",
              "      <td>20.631120</td>\n",
              "      <td>31.786994</td>\n",
              "    </tr>\n",
              "    <tr>\n",
              "      <th>7032</th>\n",
              "      <td>25.357248</td>\n",
              "      <td>2021-07-26</td>\n",
              "      <td>30.785111</td>\n",
              "      <td>36.342343</td>\n",
              "      <td>38.499307</td>\n",
              "      <td>32.028795</td>\n",
              "      <td>43.224268</td>\n",
              "      <td>38.468587</td>\n",
              "      <td>38.681411</td>\n",
              "      <td>28.378114</td>\n",
              "      <td>29.849063</td>\n",
              "      <td>41.210076</td>\n",
              "      <td>30.560657</td>\n",
              "      <td>21.200516</td>\n",
              "      <td>24.883110</td>\n",
              "      <td>22.034096</td>\n",
              "      <td>17.256919</td>\n",
              "      <td>23.016782</td>\n",
              "      <td>28.690679</td>\n",
              "      <td>12.142254</td>\n",
              "      <td>22.647205</td>\n",
              "      <td>22.301139</td>\n",
              "      <td>32.451509</td>\n",
              "    </tr>\n",
              "    <tr>\n",
              "      <th>7033</th>\n",
              "      <td>27.200877</td>\n",
              "      <td>2021-07-27</td>\n",
              "      <td>31.749586</td>\n",
              "      <td>36.905670</td>\n",
              "      <td>39.234921</td>\n",
              "      <td>31.877092</td>\n",
              "      <td>44.071522</td>\n",
              "      <td>39.911807</td>\n",
              "      <td>37.950981</td>\n",
              "      <td>28.634327</td>\n",
              "      <td>30.125588</td>\n",
              "      <td>46.010673</td>\n",
              "      <td>31.321714</td>\n",
              "      <td>21.151342</td>\n",
              "      <td>26.147888</td>\n",
              "      <td>21.804222</td>\n",
              "      <td>17.044430</td>\n",
              "      <td>23.120465</td>\n",
              "      <td>27.982434</td>\n",
              "      <td>12.166469</td>\n",
              "      <td>22.911913</td>\n",
              "      <td>21.676840</td>\n",
              "      <td>32.455598</td>\n",
              "    </tr>\n",
              "  </tbody>\n",
              "</table>\n",
              "<p>100 rows × 23 columns</p>\n",
              "</div>"
            ],
            "text/plain": [
              "      District 1       Date  District 2  ...  District 22  District 24  District 25\n",
              "6934   18.910364 2021-04-19   25.596999  ...    19.118013    18.295258    28.604875\n",
              "6935   20.553363 2021-04-20   26.585258  ...    19.541104    17.841880    28.687659\n",
              "6936   20.606484 2021-04-21   26.866922  ...    20.120632    18.127848    28.834906\n",
              "6937   20.481543 2021-04-22   25.849661  ...    19.627073    17.610601    28.771769\n",
              "6938   23.481127 2021-04-23   27.190496  ...    21.405688    19.160130    31.961274\n",
              "...          ...        ...         ...  ...          ...          ...          ...\n",
              "7029   29.139802 2021-07-23   31.962828  ...    24.261561    22.973234    35.394797\n",
              "7030   22.466965 2021-07-24   28.090314  ...    20.491061    21.573118    33.156050\n",
              "7031   16.922561 2021-07-25   25.903340  ...    19.817880    20.631120    31.786994\n",
              "7032   25.357248 2021-07-26   30.785111  ...    22.647205    22.301139    32.451509\n",
              "7033   27.200877 2021-07-27   31.749586  ...    22.911913    21.676840    32.455598\n",
              "\n",
              "[100 rows x 23 columns]"
            ]
          },
          "metadata": {
            "tags": []
          },
          "execution_count": 43
        }
      ]
    },
    {
      "cell_type": "code",
      "metadata": {
        "id": "an6OFow9bK5B"
      },
      "source": [
        "districts_samples = [11,9,7,2]"
      ],
      "execution_count": 52,
      "outputs": []
    },
    {
      "cell_type": "code",
      "metadata": {
        "id": "hqzv3PeQahrw"
      },
      "source": [
        "df_districts[\"Date\"] = pd.to_datetime(df_districts.Date)"
      ],
      "execution_count": 47,
      "outputs": []
    },
    {
      "cell_type": "code",
      "metadata": {
        "colab": {
          "base_uri": "https://localhost:8080/",
          "height": 556
        },
        "id": "Wkm1G7_gZjm9",
        "outputId": "82b4c558-e050-4675-9804-f96d6aee197f"
      },
      "source": [
        "fig = plt.figure(figsize=(20,10))\n",
        "ax = fig.add_subplot()\n",
        "for district in districts_samples:\n",
        "  district_string = f\"District {district}\"\n",
        "  sns.lineplot(x = df_districts[\"Date\"][-100:], y= df_districts[district_string][-100:], linewidth = 1, label = district_string ,ax = ax);"
      ],
      "execution_count": 53,
      "outputs": [
        {
          "output_type": "display_data",
          "data": {
            "image/png": "[encoded data removed]",
            "text/plain": [
              "<Figure size 1440x720 with 1 Axes>"
            ]
          },
          "metadata": {
            "tags": [],
            "needs_background": "light"
          }
        }
      ]
    },
    {
      "cell_type": "code",
      "metadata": {
        "colab": {
          "base_uri": "https://localhost:8080/",
          "height": 586
        },
        "id": "cRhDT2y9ZIJI",
        "outputId": "a05ac007-4c2a-4afd-90b6-3648ccbea20c"
      },
      "source": [
        "fig = plt.figure(figsize=(20,10))\n",
        "ax = fig.add_subplot()\n",
        "for district in districts_samples:\n",
        "  district_string = f\"District {district}\"\n",
        "  sns.lineplot(x = predictions_df[\"Date\"][-10:], y= predictions_df[district_string][-10:], linewidth = 1, label = district_string ,ax = ax)\n",
        "ax.set_title(\"Crimenes Pronosticados Chicago Marzo - Julio 2021\")\n",
        "ax.set_xlabel(\"Fecha\")\n",
        "ax.set_ylabel(\"Crimenes\")"
      ],
      "execution_count": 57,
      "outputs": [
        {
          "output_type": "execute_result",
          "data": {
            "text/plain": [
              "Text(0, 0.5, 'Crimenes')"
            ]
          },
          "metadata": {
            "tags": []
          },
          "execution_count": 57
        },
        {
          "output_type": "display_data",
          "data": {
            "image/png": "[encoded data removed]",
            "text/plain": [
              "<Figure size 1440x720 with 1 Axes>"
            ]
          },
          "metadata": {
            "tags": [],
            "needs_background": "light"
          }
        }
      ]
    }
  ]
}